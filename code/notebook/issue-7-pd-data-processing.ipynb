{
 "cells": [
  {
   "cell_type": "code",
   "execution_count": 123,
   "metadata": {},
   "outputs": [],
   "source": [
    "import pandas as pd\n",
    "import numpy as np\n",
    "import string\n",
    "from src.cleaning import nlp_cleaning\n",
    "pd.set_option('max.colwidth',None)"
   ]
  },
  {
   "cell_type": "code",
   "execution_count": 124,
   "metadata": {},
   "outputs": [],
   "source": [
    "df = pd.read_csv(r\"..\\..\\data\\raw\\AnimeData_300724.csv\")\n",
    "df.columns = df.columns.str.lower().str.replace(' ','_')"
   ]
  },
  {
   "cell_type": "code",
   "execution_count": 125,
   "metadata": {},
   "outputs": [
    {
     "data": {
      "text/plain": [
       "(26794, 12)"
      ]
     },
     "execution_count": 125,
     "metadata": {},
     "output_type": "execute_result"
    }
   ],
   "source": [
    "df.shape"
   ]
  },
  {
   "cell_type": "code",
   "execution_count": 126,
   "metadata": {},
   "outputs": [
    {
     "data": {
      "text/html": [
       "<div>\n",
       "<style scoped>\n",
       "    .dataframe tbody tr th:only-of-type {\n",
       "        vertical-align: middle;\n",
       "    }\n",
       "\n",
       "    .dataframe tbody tr th {\n",
       "        vertical-align: top;\n",
       "    }\n",
       "\n",
       "    .dataframe thead th {\n",
       "        text-align: right;\n",
       "    }\n",
       "</style>\n",
       "<table border=\"1\" class=\"dataframe\">\n",
       "  <thead>\n",
       "    <tr style=\"text-align: right;\">\n",
       "      <th></th>\n",
       "      <th>title</th>\n",
       "      <th>episodes</th>\n",
       "      <th>release_year</th>\n",
       "      <th>status</th>\n",
       "      <th>genres</th>\n",
       "      <th>studio</th>\n",
       "      <th>source</th>\n",
       "      <th>demographic</th>\n",
       "      <th>themes</th>\n",
       "      <th>synopsis</th>\n",
       "      <th>voters</th>\n",
       "      <th>rating</th>\n",
       "    </tr>\n",
       "  </thead>\n",
       "  <tbody>\n",
       "    <tr>\n",
       "      <th>26343</th>\n",
       "      <td>Princess Principal Picture Drama</td>\n",
       "      <td>6.0</td>\n",
       "      <td>2017</td>\n",
       "      <td>Finished</td>\n",
       "      <td>Slice of Life</td>\n",
       "      <td>NaN</td>\n",
       "      <td>Original</td>\n",
       "      <td>NaN</td>\n",
       "      <td>NaN</td>\n",
       "      <td>Picture dramas bundled with the Blu-ray and DVD volumes.</td>\n",
       "      <td>NaN</td>\n",
       "      <td>NaN</td>\n",
       "    </tr>\n",
       "    <tr>\n",
       "      <th>19585</th>\n",
       "      <td>Kyochuu Rettou Movie</td>\n",
       "      <td>NaN</td>\n",
       "      <td>2020</td>\n",
       "      <td>Finished</td>\n",
       "      <td>Horror, Suspense</td>\n",
       "      <td>Passione</td>\n",
       "      <td>Web manga</td>\n",
       "      <td>NaN</td>\n",
       "      <td>NaN</td>\n",
       "      <td>After an airplane crash during a school trip, Oribe Mutsumi and her classmates were stranded on a seemingly deserted island. Mutsumi found the other survivors, and used her wilderness knowledge to help them. She expects that they will be rescued in about three days, which doesn't seem so long to endure. However, she didn't account for the fact that the island is populated with gigantic killer insects. Her knowledge of butterflies, wasps, and more may be the only thing that will help any of her classmates survive to be rescued!\\r\\n\\r\\n(Source: MangaHelpers)</td>\n",
       "      <td>NaN</td>\n",
       "      <td>NaN</td>\n",
       "    </tr>\n",
       "  </tbody>\n",
       "</table>\n",
       "</div>"
      ],
      "text/plain": [
       "                                  title  episodes  release_year    status  \\\n",
       "26343  Princess Principal Picture Drama       6.0          2017  Finished   \n",
       "19585              Kyochuu Rettou Movie       NaN          2020  Finished   \n",
       "\n",
       "                 genres    studio     source demographic  themes  \\\n",
       "26343     Slice of Life       NaN   Original         NaN     NaN   \n",
       "19585  Horror, Suspense  Passione  Web manga         NaN     NaN   \n",
       "\n",
       "                                                                                                                                                                                                                                                                                                                                                                                                                                                                                                                                                                                 synopsis  \\\n",
       "26343                                                                                                                                                                                                                                                                                                                                                                                                                                                                                                                            Picture dramas bundled with the Blu-ray and DVD volumes.   \n",
       "19585  After an airplane crash during a school trip, Oribe Mutsumi and her classmates were stranded on a seemingly deserted island. Mutsumi found the other survivors, and used her wilderness knowledge to help them. She expects that they will be rescued in about three days, which doesn't seem so long to endure. However, she didn't account for the fact that the island is populated with gigantic killer insects. Her knowledge of butterflies, wasps, and more may be the only thing that will help any of her classmates survive to be rescued!\\r\\n\\r\\n(Source: MangaHelpers)   \n",
       "\n",
       "       voters  rating  \n",
       "26343     NaN     NaN  \n",
       "19585     NaN     NaN  "
      ]
     },
     "execution_count": 126,
     "metadata": {},
     "output_type": "execute_result"
    }
   ],
   "source": [
    "df.sample(2)"
   ]
  },
  {
   "cell_type": "code",
   "execution_count": 127,
   "metadata": {},
   "outputs": [
    {
     "data": {
      "text/plain": [
       "title               0\n",
       "episodes        13242\n",
       "release_year        0\n",
       "status            405\n",
       "genres           5380\n",
       "studio           1131\n",
       "source           2898\n",
       "demographic     16652\n",
       "themes          26794\n",
       "synopsis            9\n",
       "voters          13716\n",
       "rating          26148\n",
       "dtype: int64"
      ]
     },
     "execution_count": 127,
     "metadata": {},
     "output_type": "execute_result"
    }
   ],
   "source": [
    "df.isnull().sum()"
   ]
  },
  {
   "cell_type": "markdown",
   "metadata": {},
   "source": [
    "### Themes, Voters and Ratings will be reemoved because there are too many null values therefore it can't be used."
   ]
  },
  {
   "cell_type": "code",
   "execution_count": 128,
   "metadata": {},
   "outputs": [
    {
     "data": {
      "text/html": [
       "<div>\n",
       "<style scoped>\n",
       "    .dataframe tbody tr th:only-of-type {\n",
       "        vertical-align: middle;\n",
       "    }\n",
       "\n",
       "    .dataframe tbody tr th {\n",
       "        vertical-align: top;\n",
       "    }\n",
       "\n",
       "    .dataframe thead th {\n",
       "        text-align: right;\n",
       "    }\n",
       "</style>\n",
       "<table border=\"1\" class=\"dataframe\">\n",
       "  <thead>\n",
       "    <tr style=\"text-align: right;\">\n",
       "      <th></th>\n",
       "      <th>title</th>\n",
       "      <th>episodes</th>\n",
       "      <th>release_year</th>\n",
       "      <th>status</th>\n",
       "      <th>genres</th>\n",
       "      <th>studio</th>\n",
       "      <th>source</th>\n",
       "      <th>demographic</th>\n",
       "      <th>synopsis</th>\n",
       "    </tr>\n",
       "  </thead>\n",
       "  <tbody>\n",
       "    <tr>\n",
       "      <th>0</th>\n",
       "      <td>Shingeki no Kyojin</td>\n",
       "      <td>25.0</td>\n",
       "      <td>2013</td>\n",
       "      <td>Finished</td>\n",
       "      <td>Action, Award Winning, Drama, Suspense</td>\n",
       "      <td>Wit Studio</td>\n",
       "      <td>Manga</td>\n",
       "      <td>Shounen</td>\n",
       "      <td>Centuries ago, mankind was slaughtered to near extinction by monstrous humanoid creatures called Titans, forcing humans to hide in fear behind enormous concentric walls. What makes these giants truly terrifying is that their taste for human flesh is not born out of hunger but what appears to be out of pleasure. To ensure their survival, the remnants of humanity began living within defensive barriers, resulting in one hundred years without a single titan encounter. However, that fragile calm is soon shattered when a colossal Titan manages to breach the supposedly impregnable outer wall, reigniting the fight for survival against the man-eating abominations.\\r\\n\\r\\nAfter witnessing a horrific personal loss at the hands of the invading creatures, Eren Yeager dedicates his life to their eradication by enlisting into the Survey Corps, an elite military unit that combats the merciless humanoids outside the protection of the walls. Eren, his adopted sister Mikasa Ackerman, and his childhood friend Armin Arlert join the brutal war against the Titans and race to discover a way of defeating them before the last walls are breached.\\r\\n\\r\\n[Written by MAL Rewrite]</td>\n",
       "    </tr>\n",
       "    <tr>\n",
       "      <th>1</th>\n",
       "      <td>Fullmetal Alchemist: Brotherhood</td>\n",
       "      <td>64.0</td>\n",
       "      <td>2009</td>\n",
       "      <td>Finished</td>\n",
       "      <td>Action, Adventure, Drama, Fantasy</td>\n",
       "      <td>Bones</td>\n",
       "      <td>Manga</td>\n",
       "      <td>Shounen</td>\n",
       "      <td>After a horrific alchemy experiment goes wrong in the Elric household, brothers Edward and Alphonse are left in a catastrophic new reality. Ignoring the alchemical principle banning human transmutation, the boys attempted to bring their recently deceased mother back to life. Instead, they suffered brutal personal loss: Alphonse's body disintegrated while Edward lost a leg and then sacrificed an arm to keep Alphonse's soul in the physical realm by binding it to a hulking suit of armor.\\r\\n\\r\\nThe brothers are rescued by their neighbor Pinako Rockbell and her granddaughter Winry. Known as a bio-mechanical engineering prodigy, Winry creates prosthetic limbs for Edward by utilizing \"automail,\" a tough, versatile metal used in robots and combat armor. After years of training, the Elric brothers set off on a quest to restore their bodies by locating the Philosopher's Stone—a powerful gem that allows an alchemist to defy the traditional laws of Equivalent Exchange.\\r\\n\\r\\nAs Edward becomes an infamous alchemist and gains the nickname \"Fullmetal,\" the boys' journey embroils them in a growing conspiracy that threatens the fate of the world.\\r\\n\\r\\n[Written by MAL Rewrite]</td>\n",
       "    </tr>\n",
       "    <tr>\n",
       "      <th>2</th>\n",
       "      <td>One Punch Man</td>\n",
       "      <td>12.0</td>\n",
       "      <td>2015</td>\n",
       "      <td>Finished</td>\n",
       "      <td>Action, Comedy</td>\n",
       "      <td>Madhouse</td>\n",
       "      <td>Web manga</td>\n",
       "      <td>Seinen</td>\n",
       "      <td>The seemingly unimpressive Saitama has a rather unique hobby: being a hero. In order to pursue his childhood dream, Saitama relentlessly trained for three years, losing all of his hair in the process. Now, Saitama is so powerful, he can defeat any enemy with just one punch. However, having no one capable of matching his strength has led Saitama to an unexpected problem—he is no longer able to enjoy the thrill of battling and has become quite bored.\\r\\n\\r\\nOne day, Saitama catches the attention of 19-year-old cyborg Genos, who witnesses his power and wishes to become Saitama's disciple. Genos proposes that the two join the Hero Association in order to become certified heroes that will be recognized for their positive contributions to society. Saitama, who is shocked that no one knows who he is, quickly agrees. Meeting new allies and taking on new foes, Saitama embarks on a new journey as a member of the Hero Association to experience the excitement of battle he once felt.\\r\\n\\r\\n[Written by MAL Rewrite]</td>\n",
       "    </tr>\n",
       "    <tr>\n",
       "      <th>3</th>\n",
       "      <td>Sword Art Online</td>\n",
       "      <td>25.0</td>\n",
       "      <td>2012</td>\n",
       "      <td>Finished</td>\n",
       "      <td>Action, Adventure, Fantasy, Romance</td>\n",
       "      <td>A-1 Pictures</td>\n",
       "      <td>Light novel</td>\n",
       "      <td>NaN</td>\n",
       "      <td>Ever since the release of the innovative NerveGear, gamers from all around the globe have been given the opportunity to experience a completely immersive virtual reality. Sword Art Online (SAO), one of the most recent games on the console, offers a gateway into the wondrous world of Aincrad, a vivid, medieval landscape where users can do anything within the limits of imagination. With the release of this worldwide sensation, gaming has never felt more lifelike.\\r\\n\\r\\nHowever, the idyllic fantasy rapidly becomes a brutal nightmare when SAO's creator traps thousands of players inside the game. The \"log-out\" function has been removed, with the only method of escape involving beating all of Aincrad's one hundred increasingly difficult levels. Adding to the struggle, any in-game death becomes permanent, ending the player's life in the real world.\\r\\n\\r\\nWhile Kazuto \"Kirito\" Kirigaya was fortunate enough to be a beta-tester for the game, he quickly finds that despite his advantages, he cannot overcome SAO's challenges alone. Teaming up with Asuna Yuuki and other talented players, Kirito makes an effort to face the seemingly insurmountable trials head-on. But with difficult bosses and threatening dark cults impeding his progress, Kirito finds that such tasks are much easier said than done.\\r\\n\\r\\n[Written by MAL Rewrite]</td>\n",
       "    </tr>\n",
       "    <tr>\n",
       "      <th>4</th>\n",
       "      <td>Kimetsu no Yaiba</td>\n",
       "      <td>26.0</td>\n",
       "      <td>2019</td>\n",
       "      <td>Finished</td>\n",
       "      <td>Action, Award Winning, Fantasy</td>\n",
       "      <td>ufotable</td>\n",
       "      <td>Manga</td>\n",
       "      <td>Shounen</td>\n",
       "      <td>Ever since the death of his father, the burden of supporting the family has fallen upon Tanjirou Kamado's shoulders. Though living impoverished on a remote mountain, the Kamado family are able to enjoy a relatively peaceful and happy life. One day, Tanjirou decides to go down to the local village to make a little money selling charcoal. On his way back, night falls, forcing Tanjirou to take shelter in the house of a strange man, who warns him of the existence of flesh-eating demons that lurk in the woods at night.\\r\\n\\r\\nWhen he finally arrives back home the next day, he is met with a horrifying sight—his whole family has been slaughtered. Worse still, the sole survivor is his sister Nezuko, who has been turned into a bloodthirsty demon. Consumed by rage and hatred, Tanjirou swears to avenge his family and stay by his only remaining sibling. Alongside the mysterious group calling themselves the Demon Slayer Corps, Tanjirou will do whatever it takes to slay the demons and protect the remnants of his beloved sister's humanity.\\r\\n\\r\\n[Written by MAL Rewrite]</td>\n",
       "    </tr>\n",
       "    <tr>\n",
       "      <th>...</th>\n",
       "      <td>...</td>\n",
       "      <td>...</td>\n",
       "      <td>...</td>\n",
       "      <td>...</td>\n",
       "      <td>...</td>\n",
       "      <td>...</td>\n",
       "      <td>...</td>\n",
       "      <td>...</td>\n",
       "      <td>...</td>\n",
       "    </tr>\n",
       "    <tr>\n",
       "      <th>26789</th>\n",
       "      <td>Money Wars: Nerawareta Waterfront Keikaku</td>\n",
       "      <td>NaN</td>\n",
       "      <td>1991</td>\n",
       "      <td>Finished</td>\n",
       "      <td>NaN</td>\n",
       "      <td>Gainax</td>\n",
       "      <td>Original</td>\n",
       "      <td>Seinen</td>\n",
       "      <td>A new waterfront area is being built in Tokyo, and Chinese mafia man Lin Haifeng wants to gain control of it by owning the majority stock of the company in charge of construction. Lin's plan is to use the waterfront as a gateway for the Chinese mafia in an attempt to turn Tokyo into a \"New Hong Kong\". After his friend Kurihara commits suicide after unknowingly helping Lin get a hold of some stocks, his friend Tsuyoshi Aiba aims to avenge his friend by keeping Lin from taking over the waterfront.\\r\\n\\r\\n(Source: ANN)</td>\n",
       "    </tr>\n",
       "    <tr>\n",
       "      <th>26790</th>\n",
       "      <td>Otokogi</td>\n",
       "      <td>3.0</td>\n",
       "      <td>1990</td>\n",
       "      <td>Finished</td>\n",
       "      <td>NaN</td>\n",
       "      <td>Unknown</td>\n",
       "      <td>Manga</td>\n",
       "      <td>Seinen</td>\n",
       "      <td>After his father leaves when he is very young, Kyosuke Murata grows up under the thumb of his overprotective mother, Shizuko. When he reaches adulthood, he is thrown into the harsh, violent world of Japanese gangland when his mother becomes involved in a gang-related crime. He goes up against the Murata-gumi organization, only to find that his estranged father is its head. Rising up through the ranks, Kyosuke eventually unites half the gangs in Japan beneath his own leadership, only to find that the other half have also combined to resist his new power, starting the greatest gang war in Japanese history. \\r\\n\\r\\n(Source: The Anime Encyclopedia)</td>\n",
       "    </tr>\n",
       "    <tr>\n",
       "      <th>26791</th>\n",
       "      <td>Shin Otokogi</td>\n",
       "      <td>2.0</td>\n",
       "      <td>1998</td>\n",
       "      <td>Finished</td>\n",
       "      <td>NaN</td>\n",
       "      <td>Unknown</td>\n",
       "      <td>Manga</td>\n",
       "      <td>Seinen</td>\n",
       "      <td>The sequel to the trilogy Otokogi which follows the steps of Kyosuke Murata's only son, and the gang that he have made which gets into conflict with the local Yakuza which Kyosuke is at the head of. Eventually his son lands in prison, and things take a different turn. \\r\\n\\r\\n(Source: marowak51)</td>\n",
       "    </tr>\n",
       "    <tr>\n",
       "      <th>26792</th>\n",
       "      <td>Kuro to Kin no Akanai Kagi.</td>\n",
       "      <td>2.0</td>\n",
       "      <td>2013</td>\n",
       "      <td>Finished</td>\n",
       "      <td>Erotica</td>\n",
       "      <td>An DerCen</td>\n",
       "      <td>Visual novel</td>\n",
       "      <td>Josei</td>\n",
       "      <td>Katagiri Kanade is a hikikomori who spent her days lazing off in her room. Her specialty is her broad imagination which often leads to various wild delusions. One night a weird cowboy guy appeared in her dream, saying that he's her heart's hero. Due to his encouragement, Kanade decided to try and go have a haircut the next day. It was then when she met a mysterious guy who cut her hair in the park, giving her courage to resume her school days. \\r\\n\\r\\nRight after her haircut, a guy approaches Kanade who turns out to be her former classmate, Sudou Yukio. Kanade used to like him back then, and he was happy to meet her again. Kanade lives with her non blood-related brother, Sonomura Ikuto. Despite Ikuto's warning, Kanade went looking for the mysterious guy who cut her hair the next day. She found him in the park, where he introduced himself as Hasui Tomoomi. He's a professional hairdresser and owns a salon named Azalea nearby. Since Kanade was absent from school for so long, her homeroom teacher, Konno Chihiro, offered to help her with her studies. \\r\\n\\r\\nHaving these guys around her, what will happen to Kanade's life from now on? \\r\\n\\r\\n(Source: Love-Coloured Sky)</td>\n",
       "    </tr>\n",
       "    <tr>\n",
       "      <th>26793</th>\n",
       "      <td>Oi Pii-tan!!</td>\n",
       "      <td>NaN</td>\n",
       "      <td>2018</td>\n",
       "      <td>Finished</td>\n",
       "      <td>NaN</td>\n",
       "      <td>Unknown</td>\n",
       "      <td>Manga</td>\n",
       "      <td>Josei</td>\n",
       "      <td>A stop-motion promotional video for Oi Pii-tan!! posted on Kodansha's official YouTube channel in honor of the manga's final (17th) tankoubon going on sale March 13, 2018. The series had been running for 20 years.</td>\n",
       "    </tr>\n",
       "  </tbody>\n",
       "</table>\n",
       "<p>26794 rows × 9 columns</p>\n",
       "</div>"
      ],
      "text/plain": [
       "                                           title  episodes  release_year  \\\n",
       "0                             Shingeki no Kyojin      25.0          2013   \n",
       "1               Fullmetal Alchemist: Brotherhood      64.0          2009   \n",
       "2                                  One Punch Man      12.0          2015   \n",
       "3                               Sword Art Online      25.0          2012   \n",
       "4                               Kimetsu no Yaiba      26.0          2019   \n",
       "...                                          ...       ...           ...   \n",
       "26789  Money Wars: Nerawareta Waterfront Keikaku       NaN          1991   \n",
       "26790                                    Otokogi       3.0          1990   \n",
       "26791                               Shin Otokogi       2.0          1998   \n",
       "26792                Kuro to Kin no Akanai Kagi.       2.0          2013   \n",
       "26793                               Oi Pii-tan!!       NaN          2018   \n",
       "\n",
       "         status                                  genres        studio  \\\n",
       "0      Finished  Action, Award Winning, Drama, Suspense    Wit Studio   \n",
       "1      Finished       Action, Adventure, Drama, Fantasy         Bones   \n",
       "2      Finished                          Action, Comedy      Madhouse   \n",
       "3      Finished     Action, Adventure, Fantasy, Romance  A-1 Pictures   \n",
       "4      Finished          Action, Award Winning, Fantasy      ufotable   \n",
       "...         ...                                     ...           ...   \n",
       "26789  Finished                                     NaN        Gainax   \n",
       "26790  Finished                                     NaN       Unknown   \n",
       "26791  Finished                                     NaN       Unknown   \n",
       "26792  Finished                                 Erotica     An DerCen   \n",
       "26793  Finished                                     NaN       Unknown   \n",
       "\n",
       "             source demographic  \\\n",
       "0             Manga     Shounen   \n",
       "1             Manga     Shounen   \n",
       "2         Web manga      Seinen   \n",
       "3       Light novel         NaN   \n",
       "4             Manga     Shounen   \n",
       "...             ...         ...   \n",
       "26789      Original      Seinen   \n",
       "26790         Manga      Seinen   \n",
       "26791         Manga      Seinen   \n",
       "26792  Visual novel       Josei   \n",
       "26793         Manga       Josei   \n",
       "\n",
       "                                                                                                                                                                                                                                                                                                                                                                                                                                                                                                                                                                                                                                                                                                                                                                                                                                                                                                                                                                                                                                                                                                                                                                                                                                                                                                                                                                                        synopsis  \n",
       "0                                                                                                                                                                              Centuries ago, mankind was slaughtered to near extinction by monstrous humanoid creatures called Titans, forcing humans to hide in fear behind enormous concentric walls. What makes these giants truly terrifying is that their taste for human flesh is not born out of hunger but what appears to be out of pleasure. To ensure their survival, the remnants of humanity began living within defensive barriers, resulting in one hundred years without a single titan encounter. However, that fragile calm is soon shattered when a colossal Titan manages to breach the supposedly impregnable outer wall, reigniting the fight for survival against the man-eating abominations.\\r\\n\\r\\nAfter witnessing a horrific personal loss at the hands of the invading creatures, Eren Yeager dedicates his life to their eradication by enlisting into the Survey Corps, an elite military unit that combats the merciless humanoids outside the protection of the walls. Eren, his adopted sister Mikasa Ackerman, and his childhood friend Armin Arlert join the brutal war against the Titans and race to discover a way of defeating them before the last walls are breached.\\r\\n\\r\\n[Written by MAL Rewrite]  \n",
       "1                                                                                                                                                                  After a horrific alchemy experiment goes wrong in the Elric household, brothers Edward and Alphonse are left in a catastrophic new reality. Ignoring the alchemical principle banning human transmutation, the boys attempted to bring their recently deceased mother back to life. Instead, they suffered brutal personal loss: Alphonse's body disintegrated while Edward lost a leg and then sacrificed an arm to keep Alphonse's soul in the physical realm by binding it to a hulking suit of armor.\\r\\n\\r\\nThe brothers are rescued by their neighbor Pinako Rockbell and her granddaughter Winry. Known as a bio-mechanical engineering prodigy, Winry creates prosthetic limbs for Edward by utilizing \"automail,\" a tough, versatile metal used in robots and combat armor. After years of training, the Elric brothers set off on a quest to restore their bodies by locating the Philosopher's Stone—a powerful gem that allows an alchemist to defy the traditional laws of Equivalent Exchange.\\r\\n\\r\\nAs Edward becomes an infamous alchemist and gains the nickname \"Fullmetal,\" the boys' journey embroils them in a growing conspiracy that threatens the fate of the world.\\r\\n\\r\\n[Written by MAL Rewrite]  \n",
       "2                                                                                                                                                                                                                                                                                                                                      The seemingly unimpressive Saitama has a rather unique hobby: being a hero. In order to pursue his childhood dream, Saitama relentlessly trained for three years, losing all of his hair in the process. Now, Saitama is so powerful, he can defeat any enemy with just one punch. However, having no one capable of matching his strength has led Saitama to an unexpected problem—he is no longer able to enjoy the thrill of battling and has become quite bored.\\r\\n\\r\\nOne day, Saitama catches the attention of 19-year-old cyborg Genos, who witnesses his power and wishes to become Saitama's disciple. Genos proposes that the two join the Hero Association in order to become certified heroes that will be recognized for their positive contributions to society. Saitama, who is shocked that no one knows who he is, quickly agrees. Meeting new allies and taking on new foes, Saitama embarks on a new journey as a member of the Hero Association to experience the excitement of battle he once felt.\\r\\n\\r\\n[Written by MAL Rewrite]  \n",
       "3      Ever since the release of the innovative NerveGear, gamers from all around the globe have been given the opportunity to experience a completely immersive virtual reality. Sword Art Online (SAO), one of the most recent games on the console, offers a gateway into the wondrous world of Aincrad, a vivid, medieval landscape where users can do anything within the limits of imagination. With the release of this worldwide sensation, gaming has never felt more lifelike.\\r\\n\\r\\nHowever, the idyllic fantasy rapidly becomes a brutal nightmare when SAO's creator traps thousands of players inside the game. The \"log-out\" function has been removed, with the only method of escape involving beating all of Aincrad's one hundred increasingly difficult levels. Adding to the struggle, any in-game death becomes permanent, ending the player's life in the real world.\\r\\n\\r\\nWhile Kazuto \"Kirito\" Kirigaya was fortunate enough to be a beta-tester for the game, he quickly finds that despite his advantages, he cannot overcome SAO's challenges alone. Teaming up with Asuna Yuuki and other talented players, Kirito makes an effort to face the seemingly insurmountable trials head-on. But with difficult bosses and threatening dark cults impeding his progress, Kirito finds that such tasks are much easier said than done.\\r\\n\\r\\n[Written by MAL Rewrite]  \n",
       "4                                                                                                                                                                                                                                                                               Ever since the death of his father, the burden of supporting the family has fallen upon Tanjirou Kamado's shoulders. Though living impoverished on a remote mountain, the Kamado family are able to enjoy a relatively peaceful and happy life. One day, Tanjirou decides to go down to the local village to make a little money selling charcoal. On his way back, night falls, forcing Tanjirou to take shelter in the house of a strange man, who warns him of the existence of flesh-eating demons that lurk in the woods at night.\\r\\n\\r\\nWhen he finally arrives back home the next day, he is met with a horrifying sight—his whole family has been slaughtered. Worse still, the sole survivor is his sister Nezuko, who has been turned into a bloodthirsty demon. Consumed by rage and hatred, Tanjirou swears to avenge his family and stay by his only remaining sibling. Alongside the mysterious group calling themselves the Demon Slayer Corps, Tanjirou will do whatever it takes to slay the demons and protect the remnants of his beloved sister's humanity.\\r\\n\\r\\n[Written by MAL Rewrite]  \n",
       "...                                                                                                                                                                                                                                                                                                                                                                                                                                                                                                                                                                                                                                                                                                                                                                                                                                                                                                                                                                                                                                                                                                                                                                                                                                                                                                                                                                                          ...  \n",
       "26789                                                                                                                                                                                                                                                                                                                                                                                                                                                                                                                                                                                                                                                                                                                                                                                                                                                  A new waterfront area is being built in Tokyo, and Chinese mafia man Lin Haifeng wants to gain control of it by owning the majority stock of the company in charge of construction. Lin's plan is to use the waterfront as a gateway for the Chinese mafia in an attempt to turn Tokyo into a \"New Hong Kong\". After his friend Kurihara commits suicide after unknowingly helping Lin get a hold of some stocks, his friend Tsuyoshi Aiba aims to avenge his friend by keeping Lin from taking over the waterfront.\\r\\n\\r\\n(Source: ANN)  \n",
       "26790                                                                                                                                                                                                                                                                                                                                                                                                                                                                                                                                                                                                                                                                                                               After his father leaves when he is very young, Kyosuke Murata grows up under the thumb of his overprotective mother, Shizuko. When he reaches adulthood, he is thrown into the harsh, violent world of Japanese gangland when his mother becomes involved in a gang-related crime. He goes up against the Murata-gumi organization, only to find that his estranged father is its head. Rising up through the ranks, Kyosuke eventually unites half the gangs in Japan beneath his own leadership, only to find that the other half have also combined to resist his new power, starting the greatest gang war in Japanese history. \\r\\n\\r\\n(Source: The Anime Encyclopedia)  \n",
       "26791                                                                                                                                                                                                                                                                                                                                                                                                                                                                                                                                                                                                                                                                                                                                                                                                                                                                                                                                                                                                                                                                                   The sequel to the trilogy Otokogi which follows the steps of Kyosuke Murata's only son, and the gang that he have made which gets into conflict with the local Yakuza which Kyosuke is at the head of. Eventually his son lands in prison, and things take a different turn. \\r\\n\\r\\n(Source: marowak51)  \n",
       "26792                                                                                                                                                             Katagiri Kanade is a hikikomori who spent her days lazing off in her room. Her specialty is her broad imagination which often leads to various wild delusions. One night a weird cowboy guy appeared in her dream, saying that he's her heart's hero. Due to his encouragement, Kanade decided to try and go have a haircut the next day. It was then when she met a mysterious guy who cut her hair in the park, giving her courage to resume her school days. \\r\\n\\r\\nRight after her haircut, a guy approaches Kanade who turns out to be her former classmate, Sudou Yukio. Kanade used to like him back then, and he was happy to meet her again. Kanade lives with her non blood-related brother, Sonomura Ikuto. Despite Ikuto's warning, Kanade went looking for the mysterious guy who cut her hair the next day. She found him in the park, where he introduced himself as Hasui Tomoomi. He's a professional hairdresser and owns a salon named Azalea nearby. Since Kanade was absent from school for so long, her homeroom teacher, Konno Chihiro, offered to help her with her studies. \\r\\n\\r\\nHaving these guys around her, what will happen to Kanade's life from now on? \\r\\n\\r\\n(Source: Love-Coloured Sky)  \n",
       "26793                                                                                                                                                                                                                                                                                                                                                                                                                                                                                                                                                                                                                                                                                                                                                                                                                                                                                                                                                                                                                                                                                                                                                                      A stop-motion promotional video for Oi Pii-tan!! posted on Kodansha's official YouTube channel in honor of the manga's final (17th) tankoubon going on sale March 13, 2018. The series had been running for 20 years.  \n",
       "\n",
       "[26794 rows x 9 columns]"
      ]
     },
     "execution_count": 128,
     "metadata": {},
     "output_type": "execute_result"
    }
   ],
   "source": [
    "df = df.drop(columns = ['themes','voters','rating'])\n",
    "df"
   ]
  },
  {
   "cell_type": "markdown",
   "metadata": {},
   "source": [
    "### We will be removing mature genres from the data."
   ]
  },
  {
   "cell_type": "code",
   "execution_count": 129,
   "metadata": {},
   "outputs": [
    {
     "data": {
      "text/plain": [
       "(26794, 9)"
      ]
     },
     "execution_count": 129,
     "metadata": {},
     "output_type": "execute_result"
    }
   ],
   "source": [
    "df.shape"
   ]
  },
  {
   "cell_type": "code",
   "execution_count": 130,
   "metadata": {},
   "outputs": [
    {
     "data": {
      "text/plain": [
       "(25499, 9)"
      ]
     },
     "execution_count": 130,
     "metadata": {},
     "output_type": "execute_result"
    }
   ],
   "source": [
    "df = df.query(\"genres not in ['Ecchi', 'Hentai', 'Erotica']\")\n",
    "df.shape"
   ]
  },
  {
   "cell_type": "markdown",
   "metadata": {},
   "source": [
    "### Removing inconsitensies from the data"
   ]
  },
  {
   "cell_type": "code",
   "execution_count": 131,
   "metadata": {},
   "outputs": [
    {
     "name": "stderr",
     "output_type": "stream",
     "text": [
      "C:\\Users\\PRANJAL\\AppData\\Local\\Temp\\ipykernel_5832\\1339955518.py:1: SettingWithCopyWarning: \n",
      "A value is trying to be set on a copy of a slice from a DataFrame.\n",
      "Try using .loc[row_indexer,col_indexer] = value instead\n",
      "\n",
      "See the caveats in the documentation: https://pandas.pydata.org/pandas-docs/stable/user_guide/indexing.html#returning-a-view-versus-a-copy\n",
      "  df['synopsis_cleaned'] = df['synopsis'].apply(nlp_cleaning)\n"
     ]
    }
   ],
   "source": [
    "df['synopsis_cleaned'] = df['synopsis'].apply(nlp_cleaning)"
   ]
  },
  {
   "cell_type": "code",
   "execution_count": 132,
   "metadata": {},
   "outputs": [],
   "source": [
    "def remove_punctuation(text):\n",
    "    return text.translate(str.maketrans('', '', string.punctuation))"
   ]
  },
  {
   "cell_type": "code",
   "execution_count": 135,
   "metadata": {},
   "outputs": [
    {
     "name": "stderr",
     "output_type": "stream",
     "text": [
      "C:\\Users\\PRANJAL\\AppData\\Local\\Temp\\ipykernel_5832\\1237945932.py:1: SettingWithCopyWarning: \n",
      "A value is trying to be set on a copy of a slice from a DataFrame.\n",
      "Try using .loc[row_indexer,col_indexer] = value instead\n",
      "\n",
      "See the caveats in the documentation: https://pandas.pydata.org/pandas-docs/stable/user_guide/indexing.html#returning-a-view-versus-a-copy\n",
      "  df['synopsis_cleaned'] = df['synopsis_cleaned'].apply(remove_punctuation)\n"
     ]
    }
   ],
   "source": [
    "df['synopsis_cleaned'] = df['synopsis_cleaned'].apply(remove_punctuation)"
   ]
  },
  {
   "cell_type": "code",
   "execution_count": 136,
   "metadata": {},
   "outputs": [
    {
     "data": {
      "text/html": [
       "<div>\n",
       "<style scoped>\n",
       "    .dataframe tbody tr th:only-of-type {\n",
       "        vertical-align: middle;\n",
       "    }\n",
       "\n",
       "    .dataframe tbody tr th {\n",
       "        vertical-align: top;\n",
       "    }\n",
       "\n",
       "    .dataframe thead th {\n",
       "        text-align: right;\n",
       "    }\n",
       "</style>\n",
       "<table border=\"1\" class=\"dataframe\">\n",
       "  <thead>\n",
       "    <tr style=\"text-align: right;\">\n",
       "      <th></th>\n",
       "      <th>title</th>\n",
       "      <th>episodes</th>\n",
       "      <th>release_year</th>\n",
       "      <th>status</th>\n",
       "      <th>genres</th>\n",
       "      <th>studio</th>\n",
       "      <th>source</th>\n",
       "      <th>demographic</th>\n",
       "      <th>synopsis</th>\n",
       "      <th>synopsis_cleaned</th>\n",
       "    </tr>\n",
       "  </thead>\n",
       "  <tbody>\n",
       "    <tr>\n",
       "      <th>25618</th>\n",
       "      <td>Starry☆Sky</td>\n",
       "      <td>26.0</td>\n",
       "      <td>2010</td>\n",
       "      <td>Finished</td>\n",
       "      <td>NaN</td>\n",
       "      <td>Studio Deen</td>\n",
       "      <td>Visual novel</td>\n",
       "      <td>Josei</td>\n",
       "      <td>Formerly an all-boys school, Seigetsu Academy is now a co-ed institution that hones its students' knowledge in astronomy. In this regard, Tsukiko Yahisa enrolls as the first and only female student in the academy. By her side are her childhood best friends, Kanata Nanami and Suzuya Touzuki, who shield her from the advances of the student body. As Tsukiko learns to navigate her new environment, she encounters 13 distinct boys who are based on the Western zodiac star signs. Eventually, Tsukiko's involvement with these boys drags her deeper into star-crossed routes that will entangle her in numerous affairs.\\r\\n\\r\\n[Written by MAL Rewrite]</td>\n",
       "      <td>formerly an allboys school seigetsu academy is now a coed institution that hones its students knowledge in astronomy in this regard tsukiko yahisa enrolls as the first and only female student in the academy by her side are her childhood best friends kanata nanami and suzuya touzuki who shield her from the advances of the student body as tsukiko learns to navigate her new environment she encounters distinct boys who are based on the western zodiac star signs eventually tsukikos involvement with these boys drags her deeper into starcrossed routes that will entangle her in numerous affairs written by mal rewrite</td>\n",
       "    </tr>\n",
       "  </tbody>\n",
       "</table>\n",
       "</div>"
      ],
      "text/plain": [
       "            title  episodes  release_year    status genres       studio  \\\n",
       "25618  Starry☆Sky      26.0          2010  Finished    NaN  Studio Deen   \n",
       "\n",
       "             source demographic  \\\n",
       "25618  Visual novel       Josei   \n",
       "\n",
       "                                                                                                                                                                                                                                                                                                                                                                                                                                                                                                                                                                                                                                                                   synopsis  \\\n",
       "25618  Formerly an all-boys school, Seigetsu Academy is now a co-ed institution that hones its students' knowledge in astronomy. In this regard, Tsukiko Yahisa enrolls as the first and only female student in the academy. By her side are her childhood best friends, Kanata Nanami and Suzuya Touzuki, who shield her from the advances of the student body. As Tsukiko learns to navigate her new environment, she encounters 13 distinct boys who are based on the Western zodiac star signs. Eventually, Tsukiko's involvement with these boys drags her deeper into star-crossed routes that will entangle her in numerous affairs.\\r\\n\\r\\n[Written by MAL Rewrite]   \n",
       "\n",
       "                                                                                                                                                                                                                                                                                                                                                                                                                                                                                                                                                                                                                               synopsis_cleaned  \n",
       "25618  formerly an allboys school seigetsu academy is now a coed institution that hones its students knowledge in astronomy in this regard tsukiko yahisa enrolls as the first and only female student in the academy by her side are her childhood best friends kanata nanami and suzuya touzuki who shield her from the advances of the student body as tsukiko learns to navigate her new environment she encounters distinct boys who are based on the western zodiac star signs eventually tsukikos involvement with these boys drags her deeper into starcrossed routes that will entangle her in numerous affairs written by mal rewrite  "
      ]
     },
     "execution_count": 136,
     "metadata": {},
     "output_type": "execute_result"
    }
   ],
   "source": [
    "df.sample()"
   ]
  },
  {
   "cell_type": "code",
   "execution_count": 38,
   "metadata": {},
   "outputs": [],
   "source": [
    "df.to_csv(r\"..\\..\\data\\processed\\AnimeData_300724_processed.csv\")"
   ]
  },
  {
   "cell_type": "code",
   "execution_count": null,
   "metadata": {},
   "outputs": [],
   "source": []
  }
 ],
 "metadata": {
  "kernelspec": {
   "display_name": "venv",
   "language": "python",
   "name": "python3"
  },
  "language_info": {
   "codemirror_mode": {
    "name": "ipython",
    "version": 3
   },
   "file_extension": ".py",
   "mimetype": "text/x-python",
   "name": "python",
   "nbconvert_exporter": "python",
   "pygments_lexer": "ipython3",
   "version": "3.12.4"
  }
 },
 "nbformat": 4,
 "nbformat_minor": 2
}
