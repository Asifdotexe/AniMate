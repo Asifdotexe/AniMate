{
 "cells": [
  {
   "cell_type": "code",
   "execution_count": 32,
   "metadata": {},
   "outputs": [],
   "source": [
    "import pandas as pd\n",
    "import numpy as np\n",
    "import string\n",
    "from src.cleaning import nlp_cleaning, nlp_preprocessing\n",
    "pd.set_option('max.colwidth',None)"
   ]
  },
  {
   "cell_type": "code",
   "execution_count": 33,
   "metadata": {},
   "outputs": [],
   "source": [
    "df = pd.read_csv(r\"..\\..\\data\\raw\\AnimeData_300724.csv\")\n",
    "df.columns = df.columns.str.lower().str.replace(' ','_')"
   ]
  },
  {
   "cell_type": "code",
   "execution_count": 34,
   "metadata": {},
   "outputs": [
    {
     "data": {
      "text/plain": [
       "(26794, 12)"
      ]
     },
     "execution_count": 34,
     "metadata": {},
     "output_type": "execute_result"
    }
   ],
   "source": [
    "df.shape"
   ]
  },
  {
   "cell_type": "code",
   "execution_count": 35,
   "metadata": {},
   "outputs": [
    {
     "data": {
      "text/html": [
       "<div>\n",
       "<style scoped>\n",
       "    .dataframe tbody tr th:only-of-type {\n",
       "        vertical-align: middle;\n",
       "    }\n",
       "\n",
       "    .dataframe tbody tr th {\n",
       "        vertical-align: top;\n",
       "    }\n",
       "\n",
       "    .dataframe thead th {\n",
       "        text-align: right;\n",
       "    }\n",
       "</style>\n",
       "<table border=\"1\" class=\"dataframe\">\n",
       "  <thead>\n",
       "    <tr style=\"text-align: right;\">\n",
       "      <th></th>\n",
       "      <th>title</th>\n",
       "      <th>episodes</th>\n",
       "      <th>release_year</th>\n",
       "      <th>status</th>\n",
       "      <th>genres</th>\n",
       "      <th>studio</th>\n",
       "      <th>source</th>\n",
       "      <th>demographic</th>\n",
       "      <th>themes</th>\n",
       "      <th>synopsis</th>\n",
       "      <th>voters</th>\n",
       "      <th>rating</th>\n",
       "    </tr>\n",
       "  </thead>\n",
       "  <tbody>\n",
       "    <tr>\n",
       "      <th>26164</th>\n",
       "      <td>Gurazeni Season 2</td>\n",
       "      <td>12.0</td>\n",
       "      <td>2018</td>\n",
       "      <td>Finished</td>\n",
       "      <td>Sports</td>\n",
       "      <td>Studio Deen</td>\n",
       "      <td>Manga</td>\n",
       "      <td>Seinen</td>\n",
       "      <td>NaN</td>\n",
       "      <td>Second season of Gurazeni.</td>\n",
       "      <td>NaN</td>\n",
       "      <td>NaN</td>\n",
       "    </tr>\n",
       "    <tr>\n",
       "      <th>13105</th>\n",
       "      <td>Jinpai Bang Bang Bang: Ai Yu Mengxiang</td>\n",
       "      <td>26.0</td>\n",
       "      <td>2018</td>\n",
       "      <td>Finished</td>\n",
       "      <td>Comedy</td>\n",
       "      <td>Unknown</td>\n",
       "      <td>Original</td>\n",
       "      <td>NaN</td>\n",
       "      <td>NaN</td>\n",
       "      <td>(No synopsis yet.)</td>\n",
       "      <td>59.0</td>\n",
       "      <td>NaN</td>\n",
       "    </tr>\n",
       "  </tbody>\n",
       "</table>\n",
       "</div>"
      ],
      "text/plain": [
       "                                        title  episodes  release_year  \\\n",
       "26164                       Gurazeni Season 2      12.0          2018   \n",
       "13105  Jinpai Bang Bang Bang: Ai Yu Mengxiang      26.0          2018   \n",
       "\n",
       "         status  genres       studio    source demographic  themes  \\\n",
       "26164  Finished  Sports  Studio Deen     Manga      Seinen     NaN   \n",
       "13105  Finished  Comedy      Unknown  Original         NaN     NaN   \n",
       "\n",
       "                         synopsis  voters  rating  \n",
       "26164  Second season of Gurazeni.     NaN     NaN  \n",
       "13105          (No synopsis yet.)    59.0     NaN  "
      ]
     },
     "execution_count": 35,
     "metadata": {},
     "output_type": "execute_result"
    }
   ],
   "source": [
    "df.sample(2)"
   ]
  },
  {
   "cell_type": "code",
   "execution_count": 36,
   "metadata": {},
   "outputs": [
    {
     "data": {
      "text/plain": [
       "title               0\n",
       "episodes        13242\n",
       "release_year        0\n",
       "status            405\n",
       "genres           5380\n",
       "studio           1131\n",
       "source           2898\n",
       "demographic     16652\n",
       "themes          26794\n",
       "synopsis            9\n",
       "voters          13716\n",
       "rating          26148\n",
       "dtype: int64"
      ]
     },
     "execution_count": 36,
     "metadata": {},
     "output_type": "execute_result"
    }
   ],
   "source": [
    "df.isnull().sum()"
   ]
  },
  {
   "cell_type": "markdown",
   "metadata": {},
   "source": [
    "### Themes, Voters and Ratings will be reemoved because there are too many null values therefore it can't be used."
   ]
  },
  {
   "cell_type": "code",
   "execution_count": 37,
   "metadata": {},
   "outputs": [
    {
     "data": {
      "text/html": [
       "<div>\n",
       "<style scoped>\n",
       "    .dataframe tbody tr th:only-of-type {\n",
       "        vertical-align: middle;\n",
       "    }\n",
       "\n",
       "    .dataframe tbody tr th {\n",
       "        vertical-align: top;\n",
       "    }\n",
       "\n",
       "    .dataframe thead th {\n",
       "        text-align: right;\n",
       "    }\n",
       "</style>\n",
       "<table border=\"1\" class=\"dataframe\">\n",
       "  <thead>\n",
       "    <tr style=\"text-align: right;\">\n",
       "      <th></th>\n",
       "      <th>title</th>\n",
       "      <th>episodes</th>\n",
       "      <th>release_year</th>\n",
       "      <th>status</th>\n",
       "      <th>genres</th>\n",
       "      <th>studio</th>\n",
       "      <th>source</th>\n",
       "      <th>demographic</th>\n",
       "      <th>synopsis</th>\n",
       "    </tr>\n",
       "  </thead>\n",
       "  <tbody>\n",
       "    <tr>\n",
       "      <th>0</th>\n",
       "      <td>Shingeki no Kyojin</td>\n",
       "      <td>25.0</td>\n",
       "      <td>2013</td>\n",
       "      <td>Finished</td>\n",
       "      <td>Action, Award Winning, Drama, Suspense</td>\n",
       "      <td>Wit Studio</td>\n",
       "      <td>Manga</td>\n",
       "      <td>Shounen</td>\n",
       "      <td>Centuries ago, mankind was slaughtered to near extinction by monstrous humanoid creatures called Titans, forcing humans to hide in fear behind enormous concentric walls. What makes these giants truly terrifying is that their taste for human flesh is not born out of hunger but what appears to be out of pleasure. To ensure their survival, the remnants of humanity began living within defensive barriers, resulting in one hundred years without a single titan encounter. However, that fragile calm is soon shattered when a colossal Titan manages to breach the supposedly impregnable outer wall, reigniting the fight for survival against the man-eating abominations.\\r\\n\\r\\nAfter witnessing a horrific personal loss at the hands of the invading creatures, Eren Yeager dedicates his life to their eradication by enlisting into the Survey Corps, an elite military unit that combats the merciless humanoids outside the protection of the walls. Eren, his adopted sister Mikasa Ackerman, and his childhood friend Armin Arlert join the brutal war against the Titans and race to discover a way of defeating them before the last walls are breached.\\r\\n\\r\\n[Written by MAL Rewrite]</td>\n",
       "    </tr>\n",
       "    <tr>\n",
       "      <th>1</th>\n",
       "      <td>Fullmetal Alchemist: Brotherhood</td>\n",
       "      <td>64.0</td>\n",
       "      <td>2009</td>\n",
       "      <td>Finished</td>\n",
       "      <td>Action, Adventure, Drama, Fantasy</td>\n",
       "      <td>Bones</td>\n",
       "      <td>Manga</td>\n",
       "      <td>Shounen</td>\n",
       "      <td>After a horrific alchemy experiment goes wrong in the Elric household, brothers Edward and Alphonse are left in a catastrophic new reality. Ignoring the alchemical principle banning human transmutation, the boys attempted to bring their recently deceased mother back to life. Instead, they suffered brutal personal loss: Alphonse's body disintegrated while Edward lost a leg and then sacrificed an arm to keep Alphonse's soul in the physical realm by binding it to a hulking suit of armor.\\r\\n\\r\\nThe brothers are rescued by their neighbor Pinako Rockbell and her granddaughter Winry. Known as a bio-mechanical engineering prodigy, Winry creates prosthetic limbs for Edward by utilizing \"automail,\" a tough, versatile metal used in robots and combat armor. After years of training, the Elric brothers set off on a quest to restore their bodies by locating the Philosopher's Stone—a powerful gem that allows an alchemist to defy the traditional laws of Equivalent Exchange.\\r\\n\\r\\nAs Edward becomes an infamous alchemist and gains the nickname \"Fullmetal,\" the boys' journey embroils them in a growing conspiracy that threatens the fate of the world.\\r\\n\\r\\n[Written by MAL Rewrite]</td>\n",
       "    </tr>\n",
       "    <tr>\n",
       "      <th>2</th>\n",
       "      <td>One Punch Man</td>\n",
       "      <td>12.0</td>\n",
       "      <td>2015</td>\n",
       "      <td>Finished</td>\n",
       "      <td>Action, Comedy</td>\n",
       "      <td>Madhouse</td>\n",
       "      <td>Web manga</td>\n",
       "      <td>Seinen</td>\n",
       "      <td>The seemingly unimpressive Saitama has a rather unique hobby: being a hero. In order to pursue his childhood dream, Saitama relentlessly trained for three years, losing all of his hair in the process. Now, Saitama is so powerful, he can defeat any enemy with just one punch. However, having no one capable of matching his strength has led Saitama to an unexpected problem—he is no longer able to enjoy the thrill of battling and has become quite bored.\\r\\n\\r\\nOne day, Saitama catches the attention of 19-year-old cyborg Genos, who witnesses his power and wishes to become Saitama's disciple. Genos proposes that the two join the Hero Association in order to become certified heroes that will be recognized for their positive contributions to society. Saitama, who is shocked that no one knows who he is, quickly agrees. Meeting new allies and taking on new foes, Saitama embarks on a new journey as a member of the Hero Association to experience the excitement of battle he once felt.\\r\\n\\r\\n[Written by MAL Rewrite]</td>\n",
       "    </tr>\n",
       "    <tr>\n",
       "      <th>3</th>\n",
       "      <td>Sword Art Online</td>\n",
       "      <td>25.0</td>\n",
       "      <td>2012</td>\n",
       "      <td>Finished</td>\n",
       "      <td>Action, Adventure, Fantasy, Romance</td>\n",
       "      <td>A-1 Pictures</td>\n",
       "      <td>Light novel</td>\n",
       "      <td>NaN</td>\n",
       "      <td>Ever since the release of the innovative NerveGear, gamers from all around the globe have been given the opportunity to experience a completely immersive virtual reality. Sword Art Online (SAO), one of the most recent games on the console, offers a gateway into the wondrous world of Aincrad, a vivid, medieval landscape where users can do anything within the limits of imagination. With the release of this worldwide sensation, gaming has never felt more lifelike.\\r\\n\\r\\nHowever, the idyllic fantasy rapidly becomes a brutal nightmare when SAO's creator traps thousands of players inside the game. The \"log-out\" function has been removed, with the only method of escape involving beating all of Aincrad's one hundred increasingly difficult levels. Adding to the struggle, any in-game death becomes permanent, ending the player's life in the real world.\\r\\n\\r\\nWhile Kazuto \"Kirito\" Kirigaya was fortunate enough to be a beta-tester for the game, he quickly finds that despite his advantages, he cannot overcome SAO's challenges alone. Teaming up with Asuna Yuuki and other talented players, Kirito makes an effort to face the seemingly insurmountable trials head-on. But with difficult bosses and threatening dark cults impeding his progress, Kirito finds that such tasks are much easier said than done.\\r\\n\\r\\n[Written by MAL Rewrite]</td>\n",
       "    </tr>\n",
       "    <tr>\n",
       "      <th>4</th>\n",
       "      <td>Kimetsu no Yaiba</td>\n",
       "      <td>26.0</td>\n",
       "      <td>2019</td>\n",
       "      <td>Finished</td>\n",
       "      <td>Action, Award Winning, Fantasy</td>\n",
       "      <td>ufotable</td>\n",
       "      <td>Manga</td>\n",
       "      <td>Shounen</td>\n",
       "      <td>Ever since the death of his father, the burden of supporting the family has fallen upon Tanjirou Kamado's shoulders. Though living impoverished on a remote mountain, the Kamado family are able to enjoy a relatively peaceful and happy life. One day, Tanjirou decides to go down to the local village to make a little money selling charcoal. On his way back, night falls, forcing Tanjirou to take shelter in the house of a strange man, who warns him of the existence of flesh-eating demons that lurk in the woods at night.\\r\\n\\r\\nWhen he finally arrives back home the next day, he is met with a horrifying sight—his whole family has been slaughtered. Worse still, the sole survivor is his sister Nezuko, who has been turned into a bloodthirsty demon. Consumed by rage and hatred, Tanjirou swears to avenge his family and stay by his only remaining sibling. Alongside the mysterious group calling themselves the Demon Slayer Corps, Tanjirou will do whatever it takes to slay the demons and protect the remnants of his beloved sister's humanity.\\r\\n\\r\\n[Written by MAL Rewrite]</td>\n",
       "    </tr>\n",
       "    <tr>\n",
       "      <th>...</th>\n",
       "      <td>...</td>\n",
       "      <td>...</td>\n",
       "      <td>...</td>\n",
       "      <td>...</td>\n",
       "      <td>...</td>\n",
       "      <td>...</td>\n",
       "      <td>...</td>\n",
       "      <td>...</td>\n",
       "      <td>...</td>\n",
       "    </tr>\n",
       "    <tr>\n",
       "      <th>26789</th>\n",
       "      <td>Money Wars: Nerawareta Waterfront Keikaku</td>\n",
       "      <td>NaN</td>\n",
       "      <td>1991</td>\n",
       "      <td>Finished</td>\n",
       "      <td>NaN</td>\n",
       "      <td>Gainax</td>\n",
       "      <td>Original</td>\n",
       "      <td>Seinen</td>\n",
       "      <td>A new waterfront area is being built in Tokyo, and Chinese mafia man Lin Haifeng wants to gain control of it by owning the majority stock of the company in charge of construction. Lin's plan is to use the waterfront as a gateway for the Chinese mafia in an attempt to turn Tokyo into a \"New Hong Kong\". After his friend Kurihara commits suicide after unknowingly helping Lin get a hold of some stocks, his friend Tsuyoshi Aiba aims to avenge his friend by keeping Lin from taking over the waterfront.\\r\\n\\r\\n(Source: ANN)</td>\n",
       "    </tr>\n",
       "    <tr>\n",
       "      <th>26790</th>\n",
       "      <td>Otokogi</td>\n",
       "      <td>3.0</td>\n",
       "      <td>1990</td>\n",
       "      <td>Finished</td>\n",
       "      <td>NaN</td>\n",
       "      <td>Unknown</td>\n",
       "      <td>Manga</td>\n",
       "      <td>Seinen</td>\n",
       "      <td>After his father leaves when he is very young, Kyosuke Murata grows up under the thumb of his overprotective mother, Shizuko. When he reaches adulthood, he is thrown into the harsh, violent world of Japanese gangland when his mother becomes involved in a gang-related crime. He goes up against the Murata-gumi organization, only to find that his estranged father is its head. Rising up through the ranks, Kyosuke eventually unites half the gangs in Japan beneath his own leadership, only to find that the other half have also combined to resist his new power, starting the greatest gang war in Japanese history. \\r\\n\\r\\n(Source: The Anime Encyclopedia)</td>\n",
       "    </tr>\n",
       "    <tr>\n",
       "      <th>26791</th>\n",
       "      <td>Shin Otokogi</td>\n",
       "      <td>2.0</td>\n",
       "      <td>1998</td>\n",
       "      <td>Finished</td>\n",
       "      <td>NaN</td>\n",
       "      <td>Unknown</td>\n",
       "      <td>Manga</td>\n",
       "      <td>Seinen</td>\n",
       "      <td>The sequel to the trilogy Otokogi which follows the steps of Kyosuke Murata's only son, and the gang that he have made which gets into conflict with the local Yakuza which Kyosuke is at the head of. Eventually his son lands in prison, and things take a different turn. \\r\\n\\r\\n(Source: marowak51)</td>\n",
       "    </tr>\n",
       "    <tr>\n",
       "      <th>26792</th>\n",
       "      <td>Kuro to Kin no Akanai Kagi.</td>\n",
       "      <td>2.0</td>\n",
       "      <td>2013</td>\n",
       "      <td>Finished</td>\n",
       "      <td>Erotica</td>\n",
       "      <td>An DerCen</td>\n",
       "      <td>Visual novel</td>\n",
       "      <td>Josei</td>\n",
       "      <td>Katagiri Kanade is a hikikomori who spent her days lazing off in her room. Her specialty is her broad imagination which often leads to various wild delusions. One night a weird cowboy guy appeared in her dream, saying that he's her heart's hero. Due to his encouragement, Kanade decided to try and go have a haircut the next day. It was then when she met a mysterious guy who cut her hair in the park, giving her courage to resume her school days. \\r\\n\\r\\nRight after her haircut, a guy approaches Kanade who turns out to be her former classmate, Sudou Yukio. Kanade used to like him back then, and he was happy to meet her again. Kanade lives with her non blood-related brother, Sonomura Ikuto. Despite Ikuto's warning, Kanade went looking for the mysterious guy who cut her hair the next day. She found him in the park, where he introduced himself as Hasui Tomoomi. He's a professional hairdresser and owns a salon named Azalea nearby. Since Kanade was absent from school for so long, her homeroom teacher, Konno Chihiro, offered to help her with her studies. \\r\\n\\r\\nHaving these guys around her, what will happen to Kanade's life from now on? \\r\\n\\r\\n(Source: Love-Coloured Sky)</td>\n",
       "    </tr>\n",
       "    <tr>\n",
       "      <th>26793</th>\n",
       "      <td>Oi Pii-tan!!</td>\n",
       "      <td>NaN</td>\n",
       "      <td>2018</td>\n",
       "      <td>Finished</td>\n",
       "      <td>NaN</td>\n",
       "      <td>Unknown</td>\n",
       "      <td>Manga</td>\n",
       "      <td>Josei</td>\n",
       "      <td>A stop-motion promotional video for Oi Pii-tan!! posted on Kodansha's official YouTube channel in honor of the manga's final (17th) tankoubon going on sale March 13, 2018. The series had been running for 20 years.</td>\n",
       "    </tr>\n",
       "  </tbody>\n",
       "</table>\n",
       "<p>26794 rows × 9 columns</p>\n",
       "</div>"
      ],
      "text/plain": [
       "                                           title  episodes  release_year  \\\n",
       "0                             Shingeki no Kyojin      25.0          2013   \n",
       "1               Fullmetal Alchemist: Brotherhood      64.0          2009   \n",
       "2                                  One Punch Man      12.0          2015   \n",
       "3                               Sword Art Online      25.0          2012   \n",
       "4                               Kimetsu no Yaiba      26.0          2019   \n",
       "...                                          ...       ...           ...   \n",
       "26789  Money Wars: Nerawareta Waterfront Keikaku       NaN          1991   \n",
       "26790                                    Otokogi       3.0          1990   \n",
       "26791                               Shin Otokogi       2.0          1998   \n",
       "26792                Kuro to Kin no Akanai Kagi.       2.0          2013   \n",
       "26793                               Oi Pii-tan!!       NaN          2018   \n",
       "\n",
       "         status                                  genres        studio  \\\n",
       "0      Finished  Action, Award Winning, Drama, Suspense    Wit Studio   \n",
       "1      Finished       Action, Adventure, Drama, Fantasy         Bones   \n",
       "2      Finished                          Action, Comedy      Madhouse   \n",
       "3      Finished     Action, Adventure, Fantasy, Romance  A-1 Pictures   \n",
       "4      Finished          Action, Award Winning, Fantasy      ufotable   \n",
       "...         ...                                     ...           ...   \n",
       "26789  Finished                                     NaN        Gainax   \n",
       "26790  Finished                                     NaN       Unknown   \n",
       "26791  Finished                                     NaN       Unknown   \n",
       "26792  Finished                                 Erotica     An DerCen   \n",
       "26793  Finished                                     NaN       Unknown   \n",
       "\n",
       "             source demographic  \\\n",
       "0             Manga     Shounen   \n",
       "1             Manga     Shounen   \n",
       "2         Web manga      Seinen   \n",
       "3       Light novel         NaN   \n",
       "4             Manga     Shounen   \n",
       "...             ...         ...   \n",
       "26789      Original      Seinen   \n",
       "26790         Manga      Seinen   \n",
       "26791         Manga      Seinen   \n",
       "26792  Visual novel       Josei   \n",
       "26793         Manga       Josei   \n",
       "\n",
       "                                                                                                                                                                                                                                                                                                                                                                                                                                                                                                                                                                                                                                                                                                                                                                                                                                                                                                                                                                                                                                                                                                                                                                                                                                                                                                                                                                                        synopsis  \n",
       "0                                                                                                                                                                              Centuries ago, mankind was slaughtered to near extinction by monstrous humanoid creatures called Titans, forcing humans to hide in fear behind enormous concentric walls. What makes these giants truly terrifying is that their taste for human flesh is not born out of hunger but what appears to be out of pleasure. To ensure their survival, the remnants of humanity began living within defensive barriers, resulting in one hundred years without a single titan encounter. However, that fragile calm is soon shattered when a colossal Titan manages to breach the supposedly impregnable outer wall, reigniting the fight for survival against the man-eating abominations.\\r\\n\\r\\nAfter witnessing a horrific personal loss at the hands of the invading creatures, Eren Yeager dedicates his life to their eradication by enlisting into the Survey Corps, an elite military unit that combats the merciless humanoids outside the protection of the walls. Eren, his adopted sister Mikasa Ackerman, and his childhood friend Armin Arlert join the brutal war against the Titans and race to discover a way of defeating them before the last walls are breached.\\r\\n\\r\\n[Written by MAL Rewrite]  \n",
       "1                                                                                                                                                                  After a horrific alchemy experiment goes wrong in the Elric household, brothers Edward and Alphonse are left in a catastrophic new reality. Ignoring the alchemical principle banning human transmutation, the boys attempted to bring their recently deceased mother back to life. Instead, they suffered brutal personal loss: Alphonse's body disintegrated while Edward lost a leg and then sacrificed an arm to keep Alphonse's soul in the physical realm by binding it to a hulking suit of armor.\\r\\n\\r\\nThe brothers are rescued by their neighbor Pinako Rockbell and her granddaughter Winry. Known as a bio-mechanical engineering prodigy, Winry creates prosthetic limbs for Edward by utilizing \"automail,\" a tough, versatile metal used in robots and combat armor. After years of training, the Elric brothers set off on a quest to restore their bodies by locating the Philosopher's Stone—a powerful gem that allows an alchemist to defy the traditional laws of Equivalent Exchange.\\r\\n\\r\\nAs Edward becomes an infamous alchemist and gains the nickname \"Fullmetal,\" the boys' journey embroils them in a growing conspiracy that threatens the fate of the world.\\r\\n\\r\\n[Written by MAL Rewrite]  \n",
       "2                                                                                                                                                                                                                                                                                                                                      The seemingly unimpressive Saitama has a rather unique hobby: being a hero. In order to pursue his childhood dream, Saitama relentlessly trained for three years, losing all of his hair in the process. Now, Saitama is so powerful, he can defeat any enemy with just one punch. However, having no one capable of matching his strength has led Saitama to an unexpected problem—he is no longer able to enjoy the thrill of battling and has become quite bored.\\r\\n\\r\\nOne day, Saitama catches the attention of 19-year-old cyborg Genos, who witnesses his power and wishes to become Saitama's disciple. Genos proposes that the two join the Hero Association in order to become certified heroes that will be recognized for their positive contributions to society. Saitama, who is shocked that no one knows who he is, quickly agrees. Meeting new allies and taking on new foes, Saitama embarks on a new journey as a member of the Hero Association to experience the excitement of battle he once felt.\\r\\n\\r\\n[Written by MAL Rewrite]  \n",
       "3      Ever since the release of the innovative NerveGear, gamers from all around the globe have been given the opportunity to experience a completely immersive virtual reality. Sword Art Online (SAO), one of the most recent games on the console, offers a gateway into the wondrous world of Aincrad, a vivid, medieval landscape where users can do anything within the limits of imagination. With the release of this worldwide sensation, gaming has never felt more lifelike.\\r\\n\\r\\nHowever, the idyllic fantasy rapidly becomes a brutal nightmare when SAO's creator traps thousands of players inside the game. The \"log-out\" function has been removed, with the only method of escape involving beating all of Aincrad's one hundred increasingly difficult levels. Adding to the struggle, any in-game death becomes permanent, ending the player's life in the real world.\\r\\n\\r\\nWhile Kazuto \"Kirito\" Kirigaya was fortunate enough to be a beta-tester for the game, he quickly finds that despite his advantages, he cannot overcome SAO's challenges alone. Teaming up with Asuna Yuuki and other talented players, Kirito makes an effort to face the seemingly insurmountable trials head-on. But with difficult bosses and threatening dark cults impeding his progress, Kirito finds that such tasks are much easier said than done.\\r\\n\\r\\n[Written by MAL Rewrite]  \n",
       "4                                                                                                                                                                                                                                                                               Ever since the death of his father, the burden of supporting the family has fallen upon Tanjirou Kamado's shoulders. Though living impoverished on a remote mountain, the Kamado family are able to enjoy a relatively peaceful and happy life. One day, Tanjirou decides to go down to the local village to make a little money selling charcoal. On his way back, night falls, forcing Tanjirou to take shelter in the house of a strange man, who warns him of the existence of flesh-eating demons that lurk in the woods at night.\\r\\n\\r\\nWhen he finally arrives back home the next day, he is met with a horrifying sight—his whole family has been slaughtered. Worse still, the sole survivor is his sister Nezuko, who has been turned into a bloodthirsty demon. Consumed by rage and hatred, Tanjirou swears to avenge his family and stay by his only remaining sibling. Alongside the mysterious group calling themselves the Demon Slayer Corps, Tanjirou will do whatever it takes to slay the demons and protect the remnants of his beloved sister's humanity.\\r\\n\\r\\n[Written by MAL Rewrite]  \n",
       "...                                                                                                                                                                                                                                                                                                                                                                                                                                                                                                                                                                                                                                                                                                                                                                                                                                                                                                                                                                                                                                                                                                                                                                                                                                                                                                                                                                                          ...  \n",
       "26789                                                                                                                                                                                                                                                                                                                                                                                                                                                                                                                                                                                                                                                                                                                                                                                                                                                  A new waterfront area is being built in Tokyo, and Chinese mafia man Lin Haifeng wants to gain control of it by owning the majority stock of the company in charge of construction. Lin's plan is to use the waterfront as a gateway for the Chinese mafia in an attempt to turn Tokyo into a \"New Hong Kong\". After his friend Kurihara commits suicide after unknowingly helping Lin get a hold of some stocks, his friend Tsuyoshi Aiba aims to avenge his friend by keeping Lin from taking over the waterfront.\\r\\n\\r\\n(Source: ANN)  \n",
       "26790                                                                                                                                                                                                                                                                                                                                                                                                                                                                                                                                                                                                                                                                                                               After his father leaves when he is very young, Kyosuke Murata grows up under the thumb of his overprotective mother, Shizuko. When he reaches adulthood, he is thrown into the harsh, violent world of Japanese gangland when his mother becomes involved in a gang-related crime. He goes up against the Murata-gumi organization, only to find that his estranged father is its head. Rising up through the ranks, Kyosuke eventually unites half the gangs in Japan beneath his own leadership, only to find that the other half have also combined to resist his new power, starting the greatest gang war in Japanese history. \\r\\n\\r\\n(Source: The Anime Encyclopedia)  \n",
       "26791                                                                                                                                                                                                                                                                                                                                                                                                                                                                                                                                                                                                                                                                                                                                                                                                                                                                                                                                                                                                                                                                                   The sequel to the trilogy Otokogi which follows the steps of Kyosuke Murata's only son, and the gang that he have made which gets into conflict with the local Yakuza which Kyosuke is at the head of. Eventually his son lands in prison, and things take a different turn. \\r\\n\\r\\n(Source: marowak51)  \n",
       "26792                                                                                                                                                             Katagiri Kanade is a hikikomori who spent her days lazing off in her room. Her specialty is her broad imagination which often leads to various wild delusions. One night a weird cowboy guy appeared in her dream, saying that he's her heart's hero. Due to his encouragement, Kanade decided to try and go have a haircut the next day. It was then when she met a mysterious guy who cut her hair in the park, giving her courage to resume her school days. \\r\\n\\r\\nRight after her haircut, a guy approaches Kanade who turns out to be her former classmate, Sudou Yukio. Kanade used to like him back then, and he was happy to meet her again. Kanade lives with her non blood-related brother, Sonomura Ikuto. Despite Ikuto's warning, Kanade went looking for the mysterious guy who cut her hair the next day. She found him in the park, where he introduced himself as Hasui Tomoomi. He's a professional hairdresser and owns a salon named Azalea nearby. Since Kanade was absent from school for so long, her homeroom teacher, Konno Chihiro, offered to help her with her studies. \\r\\n\\r\\nHaving these guys around her, what will happen to Kanade's life from now on? \\r\\n\\r\\n(Source: Love-Coloured Sky)  \n",
       "26793                                                                                                                                                                                                                                                                                                                                                                                                                                                                                                                                                                                                                                                                                                                                                                                                                                                                                                                                                                                                                                                                                                                                                                      A stop-motion promotional video for Oi Pii-tan!! posted on Kodansha's official YouTube channel in honor of the manga's final (17th) tankoubon going on sale March 13, 2018. The series had been running for 20 years.  \n",
       "\n",
       "[26794 rows x 9 columns]"
      ]
     },
     "execution_count": 37,
     "metadata": {},
     "output_type": "execute_result"
    }
   ],
   "source": [
    "df = df.drop(columns = ['themes','voters','rating'])\n",
    "df"
   ]
  },
  {
   "cell_type": "markdown",
   "metadata": {},
   "source": [
    "### We will be removing mature genres from the data."
   ]
  },
  {
   "cell_type": "code",
   "execution_count": 38,
   "metadata": {},
   "outputs": [
    {
     "data": {
      "text/plain": [
       "(26794, 9)"
      ]
     },
     "execution_count": 38,
     "metadata": {},
     "output_type": "execute_result"
    }
   ],
   "source": [
    "df.shape"
   ]
  },
  {
   "cell_type": "code",
   "execution_count": 39,
   "metadata": {},
   "outputs": [
    {
     "data": {
      "text/plain": [
       "(25499, 9)"
      ]
     },
     "execution_count": 39,
     "metadata": {},
     "output_type": "execute_result"
    }
   ],
   "source": [
    "df = df.query(\"genres not in ['Ecchi', 'Hentai', 'Erotica']\")\n",
    "df.shape"
   ]
  },
  {
   "cell_type": "markdown",
   "metadata": {},
   "source": [
    "### Removing inconsitensies from the data"
   ]
  },
  {
   "cell_type": "code",
   "execution_count": 40,
   "metadata": {},
   "outputs": [
    {
     "name": "stderr",
     "output_type": "stream",
     "text": [
      "C:\\Users\\PRANJAL\\AppData\\Local\\Temp\\ipykernel_30696\\1339955518.py:1: SettingWithCopyWarning: \n",
      "A value is trying to be set on a copy of a slice from a DataFrame.\n",
      "Try using .loc[row_indexer,col_indexer] = value instead\n",
      "\n",
      "See the caveats in the documentation: https://pandas.pydata.org/pandas-docs/stable/user_guide/indexing.html#returning-a-view-versus-a-copy\n",
      "  df['synopsis_cleaned'] = df['synopsis'].apply(nlp_cleaning)\n"
     ]
    }
   ],
   "source": [
    "df['synopsis_cleaned'] = df['synopsis'].apply(nlp_cleaning)"
   ]
  },
  {
   "cell_type": "code",
   "execution_count": 41,
   "metadata": {},
   "outputs": [],
   "source": [
    "def remove_punctuation(text):\n",
    "    return text.translate(str.maketrans('', '', string.punctuation))"
   ]
  },
  {
   "cell_type": "code",
   "execution_count": 42,
   "metadata": {},
   "outputs": [
    {
     "name": "stderr",
     "output_type": "stream",
     "text": [
      "C:\\Users\\PRANJAL\\AppData\\Local\\Temp\\ipykernel_30696\\1237945932.py:1: SettingWithCopyWarning: \n",
      "A value is trying to be set on a copy of a slice from a DataFrame.\n",
      "Try using .loc[row_indexer,col_indexer] = value instead\n",
      "\n",
      "See the caveats in the documentation: https://pandas.pydata.org/pandas-docs/stable/user_guide/indexing.html#returning-a-view-versus-a-copy\n",
      "  df['synopsis_cleaned'] = df['synopsis_cleaned'].apply(remove_punctuation)\n"
     ]
    }
   ],
   "source": [
    "df['synopsis_cleaned'] = df['synopsis_cleaned'].apply(remove_punctuation)"
   ]
  },
  {
   "cell_type": "code",
   "execution_count": 43,
   "metadata": {},
   "outputs": [
    {
     "data": {
      "text/html": [
       "<div>\n",
       "<style scoped>\n",
       "    .dataframe tbody tr th:only-of-type {\n",
       "        vertical-align: middle;\n",
       "    }\n",
       "\n",
       "    .dataframe tbody tr th {\n",
       "        vertical-align: top;\n",
       "    }\n",
       "\n",
       "    .dataframe thead th {\n",
       "        text-align: right;\n",
       "    }\n",
       "</style>\n",
       "<table border=\"1\" class=\"dataframe\">\n",
       "  <thead>\n",
       "    <tr style=\"text-align: right;\">\n",
       "      <th></th>\n",
       "      <th>title</th>\n",
       "      <th>episodes</th>\n",
       "      <th>release_year</th>\n",
       "      <th>status</th>\n",
       "      <th>genres</th>\n",
       "      <th>studio</th>\n",
       "      <th>source</th>\n",
       "      <th>demographic</th>\n",
       "      <th>synopsis</th>\n",
       "      <th>synopsis_cleaned</th>\n",
       "    </tr>\n",
       "  </thead>\n",
       "  <tbody>\n",
       "    <tr>\n",
       "      <th>16786</th>\n",
       "      <td>Mahou Shoujo Liese Prettia</td>\n",
       "      <td>NaN</td>\n",
       "      <td>2018</td>\n",
       "      <td>Finished</td>\n",
       "      <td>Fantasy</td>\n",
       "      <td>Unknown</td>\n",
       "      <td>Original</td>\n",
       "      <td>NaN</td>\n",
       "      <td>The Japanese cosmetic brand Kao wants to add a little magic to your beauty routine with Liese Prettia hair color. The company began streaming a commercial that introduced the first \"episode\" of Mahou Shoujo Liese Prettia. Rize is a second year middle school student with a cloud mascot that hides in her hair. The mascot is meant to resemble the logo from Liese Prettia hair color boxes. She transforms and defeats the attacking demon with a splash of bubbles. Just when it seems like the magic is over, Liese Prettia begins speaking to the anime's viewer about transforming her own hair.\\r\\n\\r\\nA make-over can really leave you feeling magical and it looks like there really is a magical girl for every occasion. \\r\\n\\r\\n(Source: ANN)</td>\n",
       "      <td>the japanese cosmetic brand kao wants to add a little magic to your beauty routine with liese prettia hair color the company began streaming a commercial that introduced the first episode of mahou shoujo liese prettia rize is a second year middle school student with a cloud mascot that hides in her hair the mascot is meant to resemble the logo from liese prettia hair color boxes she transforms and defeats the attacking demon with a splash of bubbles just when it seems like the magic is over liese prettia begins speaking to the animes viewer about transforming her own hair a makeover can really leave you feeling magical and it looks like there really is a magical girl for every occasion source ann</td>\n",
       "    </tr>\n",
       "  </tbody>\n",
       "</table>\n",
       "</div>"
      ],
      "text/plain": [
       "                            title  episodes  release_year    status   genres  \\\n",
       "16786  Mahou Shoujo Liese Prettia       NaN          2018  Finished  Fantasy   \n",
       "\n",
       "        studio    source demographic  \\\n",
       "16786  Unknown  Original         NaN   \n",
       "\n",
       "                                                                                                                                                                                                                                                                                                                                                                                                                                                                                                                                                                                                                                                                                                                                                              synopsis  \\\n",
       "16786  The Japanese cosmetic brand Kao wants to add a little magic to your beauty routine with Liese Prettia hair color. The company began streaming a commercial that introduced the first \"episode\" of Mahou Shoujo Liese Prettia. Rize is a second year middle school student with a cloud mascot that hides in her hair. The mascot is meant to resemble the logo from Liese Prettia hair color boxes. She transforms and defeats the attacking demon with a splash of bubbles. Just when it seems like the magic is over, Liese Prettia begins speaking to the anime's viewer about transforming her own hair.\\r\\n\\r\\nA make-over can really leave you feeling magical and it looks like there really is a magical girl for every occasion. \\r\\n\\r\\n(Source: ANN)   \n",
       "\n",
       "                                                                                                                                                                                                                                                                                                                                                                                                                                                                                                                                                                                                                                                                                                                        synopsis_cleaned  \n",
       "16786  the japanese cosmetic brand kao wants to add a little magic to your beauty routine with liese prettia hair color the company began streaming a commercial that introduced the first episode of mahou shoujo liese prettia rize is a second year middle school student with a cloud mascot that hides in her hair the mascot is meant to resemble the logo from liese prettia hair color boxes she transforms and defeats the attacking demon with a splash of bubbles just when it seems like the magic is over liese prettia begins speaking to the animes viewer about transforming her own hair a makeover can really leave you feeling magical and it looks like there really is a magical girl for every occasion source ann  "
      ]
     },
     "execution_count": 43,
     "metadata": {},
     "output_type": "execute_result"
    }
   ],
   "source": [
    "df.sample()"
   ]
  },
  {
   "cell_type": "markdown",
   "metadata": {},
   "source": [
    "### Removing redundant statement i.e. \"written by mal rewrite\" from every synopsis"
   ]
  },
  {
   "cell_type": "code",
   "execution_count": 44,
   "metadata": {},
   "outputs": [
    {
     "name": "stderr",
     "output_type": "stream",
     "text": [
      "C:\\Users\\PRANJAL\\AppData\\Local\\Temp\\ipykernel_30696\\235007040.py:4: SettingWithCopyWarning: \n",
      "A value is trying to be set on a copy of a slice from a DataFrame.\n",
      "Try using .loc[row_indexer,col_indexer] = value instead\n",
      "\n",
      "See the caveats in the documentation: https://pandas.pydata.org/pandas-docs/stable/user_guide/indexing.html#returning-a-view-versus-a-copy\n",
      "  df['synopsis_cleaned'] = df['synopsis_cleaned'].apply(remove_redundant_string)\n"
     ]
    }
   ],
   "source": [
    "def remove_redundant_string(text):\n",
    "    return text.replace(\"written by mal rewrite\", \"\").strip()\n",
    "\n",
    "df['synopsis_cleaned'] = df['synopsis_cleaned'].apply(remove_redundant_string)"
   ]
  },
  {
   "cell_type": "code",
   "execution_count": 45,
   "metadata": {},
   "outputs": [
    {
     "data": {
      "text/html": [
       "<div>\n",
       "<style scoped>\n",
       "    .dataframe tbody tr th:only-of-type {\n",
       "        vertical-align: middle;\n",
       "    }\n",
       "\n",
       "    .dataframe tbody tr th {\n",
       "        vertical-align: top;\n",
       "    }\n",
       "\n",
       "    .dataframe thead th {\n",
       "        text-align: right;\n",
       "    }\n",
       "</style>\n",
       "<table border=\"1\" class=\"dataframe\">\n",
       "  <thead>\n",
       "    <tr style=\"text-align: right;\">\n",
       "      <th></th>\n",
       "      <th>title</th>\n",
       "      <th>episodes</th>\n",
       "      <th>release_year</th>\n",
       "      <th>status</th>\n",
       "      <th>genres</th>\n",
       "      <th>studio</th>\n",
       "      <th>source</th>\n",
       "      <th>demographic</th>\n",
       "      <th>synopsis</th>\n",
       "      <th>synopsis_cleaned</th>\n",
       "    </tr>\n",
       "  </thead>\n",
       "  <tbody>\n",
       "    <tr>\n",
       "      <th>23731</th>\n",
       "      <td>San Ge Heshang</td>\n",
       "      <td>NaN</td>\n",
       "      <td>1980</td>\n",
       "      <td>Finished</td>\n",
       "      <td>NaN</td>\n",
       "      <td>Unknown</td>\n",
       "      <td>NaN</td>\n",
       "      <td>NaN</td>\n",
       "      <td>The film is based on the ancient Chinese proverb \"One monk will shoulder two buckets of water, two monks will share the load, but add a third and no one will want to fetch water.\" The film does not contain any dialogues.\\r\\n\\r\\n(Source: Wikipedia)</td>\n",
       "      <td>the film is based on the ancient chinese proverb one monk will shoulder two buckets of water two monks will share the load but add a third and no one will want to fetch water the film does not contain any dialogues source wikipedia</td>\n",
       "    </tr>\n",
       "    <tr>\n",
       "      <th>6533</th>\n",
       "      <td>TWD Express Rolling Takeoff</td>\n",
       "      <td>NaN</td>\n",
       "      <td>1987</td>\n",
       "      <td>Finished</td>\n",
       "      <td>Adventure, Sci-Fi</td>\n",
       "      <td>Gallop</td>\n",
       "      <td>Manga</td>\n",
       "      <td>NaN</td>\n",
       "      <td>Based on a manga by Hijiri Yuki, serialised in Comic Nora. \\r\\n\\r\\nNote: Shown in theaters as a double bill with the anime feature MAPS: Densetsu no Samayoeru Seijin-tachi. \\r\\n\\r\\n(Source: AniDB)</td>\n",
       "      <td>based on a manga by hijiri yuki serialised in comic nora note shown in theaters as a double bill with the anime feature maps densetsu no samayoeru seijintachi source anidb</td>\n",
       "    </tr>\n",
       "  </tbody>\n",
       "</table>\n",
       "</div>"
      ],
      "text/plain": [
       "                             title  episodes  release_year    status  \\\n",
       "23731               San Ge Heshang       NaN          1980  Finished   \n",
       "6533   TWD Express Rolling Takeoff       NaN          1987  Finished   \n",
       "\n",
       "                  genres   studio source demographic  \\\n",
       "23731                NaN  Unknown    NaN         NaN   \n",
       "6533   Adventure, Sci-Fi   Gallop  Manga         NaN   \n",
       "\n",
       "                                                                                                                                                                                                                                                      synopsis  \\\n",
       "23731  The film is based on the ancient Chinese proverb \"One monk will shoulder two buckets of water, two monks will share the load, but add a third and no one will want to fetch water.\" The film does not contain any dialogues.\\r\\n\\r\\n(Source: Wikipedia)   \n",
       "6533                                                      Based on a manga by Hijiri Yuki, serialised in Comic Nora. \\r\\n\\r\\nNote: Shown in theaters as a double bill with the anime feature MAPS: Densetsu no Samayoeru Seijin-tachi. \\r\\n\\r\\n(Source: AniDB)   \n",
       "\n",
       "                                                                                                                                                                                                                              synopsis_cleaned  \n",
       "23731  the film is based on the ancient chinese proverb one monk will shoulder two buckets of water two monks will share the load but add a third and no one will want to fetch water the film does not contain any dialogues source wikipedia  \n",
       "6533                                                               based on a manga by hijiri yuki serialised in comic nora note shown in theaters as a double bill with the anime feature maps densetsu no samayoeru seijintachi source anidb  "
      ]
     },
     "execution_count": 45,
     "metadata": {},
     "output_type": "execute_result"
    }
   ],
   "source": [
    "df.sample(2)"
   ]
  },
  {
   "cell_type": "code",
   "execution_count": 46,
   "metadata": {},
   "outputs": [
    {
     "name": "stderr",
     "output_type": "stream",
     "text": [
      "C:\\Users\\PRANJAL\\AppData\\Local\\Temp\\ipykernel_30696\\3544356266.py:1: SettingWithCopyWarning: \n",
      "A value is trying to be set on a copy of a slice from a DataFrame.\n",
      "Try using .loc[row_indexer,col_indexer] = value instead\n",
      "\n",
      "See the caveats in the documentation: https://pandas.pydata.org/pandas-docs/stable/user_guide/indexing.html#returning-a-view-versus-a-copy\n",
      "  df['synopsis_cleaned'] = df['synopsis_cleaned'].apply(nlp_preprocessing)\n"
     ]
    }
   ],
   "source": [
    "df['synopsis_cleaned'] = df['synopsis_cleaned'].apply(nlp_preprocessing)"
   ]
  },
  {
   "cell_type": "code",
   "execution_count": 47,
   "metadata": {},
   "outputs": [
    {
     "data": {
      "text/html": [
       "<div>\n",
       "<style scoped>\n",
       "    .dataframe tbody tr th:only-of-type {\n",
       "        vertical-align: middle;\n",
       "    }\n",
       "\n",
       "    .dataframe tbody tr th {\n",
       "        vertical-align: top;\n",
       "    }\n",
       "\n",
       "    .dataframe thead th {\n",
       "        text-align: right;\n",
       "    }\n",
       "</style>\n",
       "<table border=\"1\" class=\"dataframe\">\n",
       "  <thead>\n",
       "    <tr style=\"text-align: right;\">\n",
       "      <th></th>\n",
       "      <th>title</th>\n",
       "      <th>episodes</th>\n",
       "      <th>release_year</th>\n",
       "      <th>status</th>\n",
       "      <th>genres</th>\n",
       "      <th>studio</th>\n",
       "      <th>source</th>\n",
       "      <th>demographic</th>\n",
       "      <th>synopsis</th>\n",
       "      <th>synopsis_cleaned</th>\n",
       "    </tr>\n",
       "  </thead>\n",
       "  <tbody>\n",
       "    <tr>\n",
       "      <th>22648</th>\n",
       "      <td>Kuaile Baobei: Huoli Jiating</td>\n",
       "      <td>20.0</td>\n",
       "      <td>0</td>\n",
       "      <td>Finished</td>\n",
       "      <td>NaN</td>\n",
       "      <td>Unknown</td>\n",
       "      <td>Original</td>\n",
       "      <td>Kids</td>\n",
       "      <td>(No synopsis yet.)</td>\n",
       "      <td>synopsis yet</td>\n",
       "    </tr>\n",
       "  </tbody>\n",
       "</table>\n",
       "</div>"
      ],
      "text/plain": [
       "                              title  episodes  release_year    status genres  \\\n",
       "22648  Kuaile Baobei: Huoli Jiating      20.0             0  Finished    NaN   \n",
       "\n",
       "        studio    source demographic            synopsis synopsis_cleaned  \n",
       "22648  Unknown  Original        Kids  (No synopsis yet.)     synopsis yet  "
      ]
     },
     "execution_count": 47,
     "metadata": {},
     "output_type": "execute_result"
    }
   ],
   "source": [
    "df.sample()"
   ]
  },
  {
   "cell_type": "code",
   "execution_count": 48,
   "metadata": {},
   "outputs": [
    {
     "name": "stderr",
     "output_type": "stream",
     "text": [
      "C:\\Users\\PRANJAL\\AppData\\Local\\Temp\\ipykernel_30696\\1651891899.py:4: SettingWithCopyWarning: \n",
      "A value is trying to be set on a copy of a slice from a DataFrame.\n",
      "Try using .loc[row_indexer,col_indexer] = value instead\n",
      "\n",
      "See the caveats in the documentation: https://pandas.pydata.org/pandas-docs/stable/user_guide/indexing.html#returning-a-view-versus-a-copy\n",
      "  df['title'] = df['title'].apply(remove_anomaly_string)\n"
     ]
    }
   ],
   "source": [
    "def remove_anomaly_string(text):\n",
    "    return text.strip('.hack//')\n",
    "\n",
    "df['title'] = df['title'].apply(remove_anomaly_string)"
   ]
  },
  {
   "cell_type": "code",
   "execution_count": 49,
   "metadata": {},
   "outputs": [
    {
     "data": {
      "text/plain": [
       "0                                                                  Shingeki no Kyojin\n",
       "1                                                    Fullmetal Alchemist: Brotherhood\n",
       "2                                                                       One Punch Man\n",
       "3                                                                    Sword Art Online\n",
       "4                                                                     Kimetsu no Yaib\n",
       "                                            ...                                      \n",
       "1646    Arifureta Shokugyou de Sekai Saikyou: Maboroshi no Bouken to Kiseki no Kaigou\n",
       "1647                Choujigen Game Neptune The Animation: Yakusoku no Eien - True End\n",
       "1648                                                                    Bye Bye, Eart\n",
       "1649                                                                     G.U. Trilogy\n",
       "1650                                         Lupin III vs. Meitantei Conan: The Movie\n",
       "Name: title, Length: 1651, dtype: object"
      ]
     },
     "execution_count": 49,
     "metadata": {},
     "output_type": "execute_result"
    }
   ],
   "source": [
    "df['title'].head(1651)"
   ]
  },
  {
   "cell_type": "code",
   "execution_count": 22,
   "metadata": {},
   "outputs": [],
   "source": [
    "df.to_csv(r\"..\\..\\data\\processed\\AnimeData_300724_processed.csv\")"
   ]
  }
 ],
 "metadata": {
  "kernelspec": {
   "display_name": "venv",
   "language": "python",
   "name": "python3"
  },
  "language_info": {
   "codemirror_mode": {
    "name": "ipython",
    "version": 3
   },
   "file_extension": ".py",
   "mimetype": "text/x-python",
   "name": "python",
   "nbconvert_exporter": "python",
   "pygments_lexer": "ipython3",
   "version": "3.12.4"
  }
 },
 "nbformat": 4,
 "nbformat_minor": 2
}
