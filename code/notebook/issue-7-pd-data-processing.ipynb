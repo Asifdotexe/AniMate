{
 "cells": [
  {
   "cell_type": "code",
   "execution_count": 1,
   "metadata": {},
   "outputs": [],
   "source": [
    "import pandas as pd\n",
    "import numpy as np"
   ]
  },
  {
   "cell_type": "code",
   "execution_count": 2,
   "metadata": {},
   "outputs": [],
   "source": [
    "df = pd.read_csv(r\"..\\..\\data\\raw\\AnimeData_300724.csv\")"
   ]
  },
  {
   "cell_type": "code",
   "execution_count": 3,
   "metadata": {},
   "outputs": [
    {
     "data": {
      "text/plain": [
       "(26794, 12)"
      ]
     },
     "execution_count": 3,
     "metadata": {},
     "output_type": "execute_result"
    }
   ],
   "source": [
    "df.shape"
   ]
  },
  {
   "cell_type": "code",
   "execution_count": 7,
   "metadata": {},
   "outputs": [
    {
     "data": {
      "text/html": [
       "<div>\n",
       "<style scoped>\n",
       "    .dataframe tbody tr th:only-of-type {\n",
       "        vertical-align: middle;\n",
       "    }\n",
       "\n",
       "    .dataframe tbody tr th {\n",
       "        vertical-align: top;\n",
       "    }\n",
       "\n",
       "    .dataframe thead th {\n",
       "        text-align: right;\n",
       "    }\n",
       "</style>\n",
       "<table border=\"1\" class=\"dataframe\">\n",
       "  <thead>\n",
       "    <tr style=\"text-align: right;\">\n",
       "      <th></th>\n",
       "      <th>Title</th>\n",
       "      <th>Episodes</th>\n",
       "      <th>Release Year</th>\n",
       "      <th>Status</th>\n",
       "      <th>Genres</th>\n",
       "      <th>Studio</th>\n",
       "      <th>Source</th>\n",
       "      <th>Demographic</th>\n",
       "      <th>Themes</th>\n",
       "      <th>Synopsis</th>\n",
       "      <th>Voters</th>\n",
       "      <th>Rating</th>\n",
       "    </tr>\n",
       "  </thead>\n",
       "  <tbody>\n",
       "    <tr>\n",
       "      <th>0</th>\n",
       "      <td>Shingeki no Kyojin</td>\n",
       "      <td>25.0</td>\n",
       "      <td>2013</td>\n",
       "      <td>Finished</td>\n",
       "      <td>Action, Award Winning, Drama, Suspense</td>\n",
       "      <td>Wit Studio</td>\n",
       "      <td>Manga</td>\n",
       "      <td>Shounen</td>\n",
       "      <td>NaN</td>\n",
       "      <td>Centuries ago, mankind was slaughtered to near...</td>\n",
       "      <td>NaN</td>\n",
       "      <td>8.55</td>\n",
       "    </tr>\n",
       "    <tr>\n",
       "      <th>1</th>\n",
       "      <td>Fullmetal Alchemist: Brotherhood</td>\n",
       "      <td>64.0</td>\n",
       "      <td>2009</td>\n",
       "      <td>Finished</td>\n",
       "      <td>Action, Adventure, Drama, Fantasy</td>\n",
       "      <td>Bones</td>\n",
       "      <td>Manga</td>\n",
       "      <td>Shounen</td>\n",
       "      <td>NaN</td>\n",
       "      <td>After a horrific alchemy experiment goes wrong...</td>\n",
       "      <td>NaN</td>\n",
       "      <td>NaN</td>\n",
       "    </tr>\n",
       "    <tr>\n",
       "      <th>2</th>\n",
       "      <td>One Punch Man</td>\n",
       "      <td>12.0</td>\n",
       "      <td>2015</td>\n",
       "      <td>Finished</td>\n",
       "      <td>Action, Comedy</td>\n",
       "      <td>Madhouse</td>\n",
       "      <td>Web manga</td>\n",
       "      <td>Seinen</td>\n",
       "      <td>NaN</td>\n",
       "      <td>The seemingly unimpressive Saitama has a rathe...</td>\n",
       "      <td>NaN</td>\n",
       "      <td>8.49</td>\n",
       "    </tr>\n",
       "    <tr>\n",
       "      <th>3</th>\n",
       "      <td>Sword Art Online</td>\n",
       "      <td>25.0</td>\n",
       "      <td>2012</td>\n",
       "      <td>Finished</td>\n",
       "      <td>Action, Adventure, Fantasy, Romance</td>\n",
       "      <td>A-1 Pictures</td>\n",
       "      <td>Light novel</td>\n",
       "      <td>NaN</td>\n",
       "      <td>NaN</td>\n",
       "      <td>Ever since the release of the innovative Nerve...</td>\n",
       "      <td>NaN</td>\n",
       "      <td>NaN</td>\n",
       "    </tr>\n",
       "    <tr>\n",
       "      <th>4</th>\n",
       "      <td>Kimetsu no Yaiba</td>\n",
       "      <td>26.0</td>\n",
       "      <td>2019</td>\n",
       "      <td>Finished</td>\n",
       "      <td>Action, Award Winning, Fantasy</td>\n",
       "      <td>ufotable</td>\n",
       "      <td>Manga</td>\n",
       "      <td>Shounen</td>\n",
       "      <td>NaN</td>\n",
       "      <td>Ever since the death of his father, the burden...</td>\n",
       "      <td>NaN</td>\n",
       "      <td>8.46</td>\n",
       "    </tr>\n",
       "  </tbody>\n",
       "</table>\n",
       "</div>"
      ],
      "text/plain": [
       "                              Title  Episodes  Release Year    Status  \\\n",
       "0                Shingeki no Kyojin      25.0          2013  Finished   \n",
       "1  Fullmetal Alchemist: Brotherhood      64.0          2009  Finished   \n",
       "2                     One Punch Man      12.0          2015  Finished   \n",
       "3                  Sword Art Online      25.0          2012  Finished   \n",
       "4                  Kimetsu no Yaiba      26.0          2019  Finished   \n",
       "\n",
       "                                   Genres        Studio       Source  \\\n",
       "0  Action, Award Winning, Drama, Suspense    Wit Studio        Manga   \n",
       "1       Action, Adventure, Drama, Fantasy         Bones        Manga   \n",
       "2                          Action, Comedy      Madhouse    Web manga   \n",
       "3     Action, Adventure, Fantasy, Romance  A-1 Pictures  Light novel   \n",
       "4          Action, Award Winning, Fantasy      ufotable        Manga   \n",
       "\n",
       "  Demographic  Themes                                           Synopsis  \\\n",
       "0     Shounen     NaN  Centuries ago, mankind was slaughtered to near...   \n",
       "1     Shounen     NaN  After a horrific alchemy experiment goes wrong...   \n",
       "2      Seinen     NaN  The seemingly unimpressive Saitama has a rathe...   \n",
       "3         NaN     NaN  Ever since the release of the innovative Nerve...   \n",
       "4     Shounen     NaN  Ever since the death of his father, the burden...   \n",
       "\n",
       "   Voters  Rating  \n",
       "0     NaN    8.55  \n",
       "1     NaN     NaN  \n",
       "2     NaN    8.49  \n",
       "3     NaN     NaN  \n",
       "4     NaN    8.46  "
      ]
     },
     "execution_count": 7,
     "metadata": {},
     "output_type": "execute_result"
    }
   ],
   "source": [
    "df.head()"
   ]
  },
  {
   "cell_type": "code",
   "execution_count": 6,
   "metadata": {},
   "outputs": [
    {
     "data": {
      "text/plain": [
       "Title               0\n",
       "Episodes        13242\n",
       "Release Year        0\n",
       "Status            405\n",
       "Genres           5380\n",
       "Studio           1131\n",
       "Source           2898\n",
       "Demographic     16652\n",
       "Themes          26794\n",
       "Synopsis            9\n",
       "Voters          13716\n",
       "Rating          26148\n",
       "dtype: int64"
      ]
     },
     "execution_count": 6,
     "metadata": {},
     "output_type": "execute_result"
    }
   ],
   "source": [
    "df.isnull().sum()"
   ]
  }
 ],
 "metadata": {
  "kernelspec": {
   "display_name": "venv",
   "language": "python",
   "name": "python3"
  },
  "language_info": {
   "codemirror_mode": {
    "name": "ipython",
    "version": 3
   },
   "file_extension": ".py",
   "mimetype": "text/x-python",
   "name": "python",
   "nbconvert_exporter": "python",
   "pygments_lexer": "ipython3",
   "version": "3.12.4"
  }
 },
 "nbformat": 4,
 "nbformat_minor": 2
}
