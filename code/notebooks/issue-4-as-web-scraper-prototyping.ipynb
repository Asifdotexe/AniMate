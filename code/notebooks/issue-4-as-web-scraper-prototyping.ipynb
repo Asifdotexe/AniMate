{
 "cells": [
  {
   "cell_type": "code",
   "execution_count": 1,
   "metadata": {},
   "outputs": [],
   "source": [
    "import re\n",
    "import pandas as pd\n",
    "from time import sleep\n",
    "from bs4 import BeautifulSoup as bs\n",
    "from playwright.sync_api import sync_playwright"
   ]
  },
  {
   "cell_type": "code",
   "execution_count": 4,
   "metadata": {},
   "outputs": [],
   "source": [
    "def anime_season(month: str) -> str:\n",
    "    \"\"\"\n",
    "    This function takes a month as input and returns the corresponding season.\n",
    "    \n",
    "    Reason for including this:\n",
    "    Users might want recommendations for anime from a particular season, like \n",
    "    \"I want to watch anime from the latest season\" or \n",
    "    \"Show me the best anime from Fall 2022.\"\n",
    "    ----- \n",
    "    Parameters:\n",
    "    - month (str): The month for which the season needs to be determined.\n",
    "    -----\n",
    "    Returns:\n",
    "    - str: The season corresponding to the input month. If the month is not recognized, it returns 'Unspecified'.\n",
    "    -----\n",
    "    Example:\n",
    "    >>> anime_season('3')\n",
    "    'Winter'\n",
    "    >>> anime_season('7')\n",
    "    'Summer'\n",
    "    >>> anime_season('13')\n",
    "    'Unspecified'\n",
    "    \"\"\"\n",
    "    # Define a dictionary mapping months to seasons\n",
    "    month_to_season = {\n",
    "        1: 'Winter', 2: 'Winter', 3: 'Winter',\n",
    "        4: 'Spring', 5: 'Spring', 6: 'Spring',\n",
    "        7: 'Summer', 8: 'Summer', 9: 'Summer',\n",
    "        10: 'Fall', 11: 'Fall', 12: 'Fall'\n",
    "    }\n",
    "\n",
    "    # Convert month to integer and get the season\n",
    "    try:\n",
    "        month_num = int(month)\n",
    "        return month_to_season.get(month_num, 'Unspecified')\n",
    "    except ValueError:\n",
    "        return 'Unspecified'"
   ]
  },
  {
   "cell_type": "code",
   "execution_count": null,
   "metadata": {},
   "outputs": [],
   "source": [
    "def scrape_anime_data(anime_item):\n",
    "    \"\"\"\n",
    "    This function takes an HTML element representing an anime item and returns a dictionary containing various information about the anime.\n",
    "\n",
    "    ----\n",
    "    Parameters:\n",
    "    - anime_item (bs4.element.Tag): An HTML element representing an anime item.\n",
    "    ----\n",
    "    Returns:\n",
    "    - dict: A dictionary containing the following keys and their corresponding values:\n",
    "        - 'Title': The title of the anime.\n",
    "        - 'Voters': The number of voters for the anime.\n",
    "        - 'Avg Score': The average score of the anime.\n",
    "        - 'Year': The year the anime started.\n",
    "        - 'Season': The season the anime started in.\n",
    "        - 'Studio': The studio that produced the anime.\n",
    "        - 'Genre(s)': A comma-separated string of the genres of the anime.\n",
    "        - 'Media': The type of media the anime is (e.g., TV, movie, OVA).\n",
    "        - 'Status': The status of the anime (e.g., airing, finished, on-hold).\n",
    "        - 'Eps': The number of episodes in the anime.\n",
    "        - 'Duration(min)': The duration of each episode in minutes.\n",
    "    \"\"\"\n",
    "    anime = bs(anime_item.inner_html(), 'html.parser')\n",
    "    return {\n",
    "        'Title': anime.find('span', class_='js-title').text,\n",
    "        'Voters': int(anime.find('span', class_='js-members').text),\n",
    "        'Avg Score': float(anime.find('span', class_='js-score').text),\n",
    "        'Year': anime.find('span', class_='js-start_date').text[:4],\n",
    "        'Season': anime_season(anime.find('span', class_='js-start_date').text[4:6]),\n",
    "        'Studio': [studio.text.strip() for studio in anime.find('div', class_='properties')][1].replace('Studio', ''),\n",
    "        'Genre(s)': ', '.join([data.text.strip() for data in anime.find('div', class_='genres-inner js-genre-inner').select('span')]),\n",
    "        'Media': re.sub(r'[\\W+\\d]', '', [data.text for data in anime.find('div', class_='info').select('span')][0]),\n",
    "        'Status': [data.text for data in anime.find('div', class_='info').select('span')][1],\n",
    "        'Eps': [data.text.split()[0] for data in anime.find('div', class_='info').select('span')][2],\n",
    "        'Duration(min)': [data.text.split()[0] for data in anime.find('div', class_='info').select('span')][-1],\n",
    "    }"
   ]
  }
 ],
 "metadata": {
  "kernelspec": {
   "display_name": "venv",
   "language": "python",
   "name": "python3"
  },
  "language_info": {
   "codemirror_mode": {
    "name": "ipython",
    "version": 3
   },
   "file_extension": ".py",
   "mimetype": "text/x-python",
   "name": "python",
   "nbconvert_exporter": "python",
   "pygments_lexer": "ipython3",
   "version": "3.11.3"
  }
 },
 "nbformat": 4,
 "nbformat_minor": 2
}
