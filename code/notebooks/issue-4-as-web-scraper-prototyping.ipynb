{
 "cells": [
  {
   "cell_type": "code",
   "execution_count": 1,
   "metadata": {},
   "outputs": [],
   "source": [
    "import re\n",
    "import pandas as pd\n",
    "from time import sleep\n",
    "from bs4 import BeautifulSoup as bs\n",
    "from playwright.sync_api import sync_playwright"
   ]
  },
  {
   "cell_type": "code",
   "execution_count": 4,
   "metadata": {},
   "outputs": [],
   "source": [
    "def anime_season(month: str) -> str:\n",
    "    \"\"\"\n",
    "    This function takes a month as input and returns the corresponding season.\n",
    "    \n",
    "    Reason for including this:\n",
    "    Users might want recommendations for anime from a particular season, like \n",
    "    \"I want to watch anime from the latest season\" or \n",
    "    \"Show me the best anime from Fall 2022.\"\n",
    "    ----- \n",
    "    Parameters:\n",
    "    - month (str): The month for which the season needs to be determined.\n",
    "    -----\n",
    "    Returns:\n",
    "    - str: The season corresponding to the input month. If the month is not recognized, it returns 'Unspecified'.\n",
    "    -----\n",
    "    Example:\n",
    "    >>> anime_season('3')\n",
    "    'Winter'\n",
    "    >>> anime_season('7')\n",
    "    'Summer'\n",
    "    >>> anime_season('13')\n",
    "    'Unspecified'\n",
    "    \"\"\"\n",
    "    # Define a dictionary mapping months to seasons\n",
    "    month_to_season = {\n",
    "        1: 'Winter', 2: 'Winter', 3: 'Winter',\n",
    "        4: 'Spring', 5: 'Spring', 6: 'Spring',\n",
    "        7: 'Summer', 8: 'Summer', 9: 'Summer',\n",
    "        10: 'Fall', 11: 'Fall', 12: 'Fall'\n",
    "    }\n",
    "\n",
    "    # Convert month to integer and get the season\n",
    "    try:\n",
    "        month_num = int(month)\n",
    "        return month_to_season.get(month_num, 'Unspecified')\n",
    "    except ValueError:\n",
    "        return 'Unspecified'"
   ]
  },
  {
   "cell_type": "code",
   "execution_count": null,
   "metadata": {},
   "outputs": [],
   "source": []
  }
 ],
 "metadata": {
  "kernelspec": {
   "display_name": "venv",
   "language": "python",
   "name": "python3"
  },
  "language_info": {
   "codemirror_mode": {
    "name": "ipython",
    "version": 3
   },
   "file_extension": ".py",
   "mimetype": "text/x-python",
   "name": "python",
   "nbconvert_exporter": "python",
   "pygments_lexer": "ipython3",
   "version": "3.11.3"
  }
 },
 "nbformat": 4,
 "nbformat_minor": 2
}
