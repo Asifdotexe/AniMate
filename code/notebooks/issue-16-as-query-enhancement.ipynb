{
 "cells": [
  {
   "cell_type": "code",
   "execution_count": 118,
   "metadata": {},
   "outputs": [],
   "source": [
    "import pandas as pd\n",
    "import numpy as np\n",
    "from sklearn.feature_extraction.text import TfidfVectorizer\n",
    "from sklearn.neighbors import NearestNeighbors\n",
    "from nltk.tokenize import word_tokenize\n",
    "from nltk.corpus import stopwords\n",
    "from nltk.stem import PorterStemmer\n",
    "\n",
    "from src.cleaning import remove_mature_content\n",
    "\n",
    "stop_words = set(stopwords.words('english'))\n",
    "stemmer = PorterStemmer()"
   ]
  },
  {
   "cell_type": "code",
   "execution_count": 3,
   "metadata": {},
   "outputs": [
    {
     "name": "stdout",
     "output_type": "stream",
     "text": [
      "<class 'pandas.core.frame.DataFrame'>\n",
      "RangeIndex: 26794 entries, 0 to 26793\n",
      "Data columns (total 12 columns):\n",
      " #   Column        Non-Null Count  Dtype  \n",
      "---  ------        --------------  -----  \n",
      " 0   title         26794 non-null  object \n",
      " 1   episodes      13552 non-null  float64\n",
      " 2   release_year  26794 non-null  int64  \n",
      " 3   status        26389 non-null  object \n",
      " 4   genres        21414 non-null  object \n",
      " 5   studio        25663 non-null  object \n",
      " 6   source        23896 non-null  object \n",
      " 7   demographic   10142 non-null  object \n",
      " 8   themes        0 non-null      float64\n",
      " 9   synopsis      26785 non-null  object \n",
      " 10  voters        13078 non-null  float64\n",
      " 11  rating        646 non-null    float64\n",
      "dtypes: float64(4), int64(1), object(7)\n",
      "memory usage: 2.5+ MB\n"
     ]
    }
   ],
   "source": [
    "scraped_data = pd.read_csv(r'..\\..\\data\\raw\\AnimeData_300724.csv')\n",
    "scraped_data.columns = scraped_data.columns.str.lower().str.replace(' ', '_')\n",
    "scraped_data.info()"
   ]
  },
  {
   "cell_type": "code",
   "execution_count": 4,
   "metadata": {},
   "outputs": [
    {
     "name": "stdout",
     "output_type": "stream",
     "text": [
      "<class 'pandas.core.frame.DataFrame'>\n",
      "RangeIndex: 24905 entries, 0 to 24904\n",
      "Data columns (total 24 columns):\n",
      " #   Column        Non-Null Count  Dtype \n",
      "---  ------        --------------  ----- \n",
      " 0   anime_id      24905 non-null  int64 \n",
      " 1   name          24905 non-null  object\n",
      " 2   english_name  24905 non-null  object\n",
      " 3   other_name    24905 non-null  object\n",
      " 4   score         24905 non-null  object\n",
      " 5   genres        24905 non-null  object\n",
      " 6   synopsis      24905 non-null  object\n",
      " 7   type          24905 non-null  object\n",
      " 8   episodes      24905 non-null  object\n",
      " 9   aired         24905 non-null  object\n",
      " 10  premiered     24905 non-null  object\n",
      " 11  status        24905 non-null  object\n",
      " 12  producers     24905 non-null  object\n",
      " 13  licensors     24905 non-null  object\n",
      " 14  studios       24905 non-null  object\n",
      " 15  source        24905 non-null  object\n",
      " 16  duration      24905 non-null  object\n",
      " 17  rating        24905 non-null  object\n",
      " 18  rank          24905 non-null  object\n",
      " 19  popularity    24905 non-null  int64 \n",
      " 20  favorites     24905 non-null  int64 \n",
      " 21  scored_by     24905 non-null  object\n",
      " 22  members       24905 non-null  int64 \n",
      " 23  image_url     24905 non-null  object\n",
      "dtypes: int64(4), object(20)\n",
      "memory usage: 4.6+ MB\n"
     ]
    }
   ],
   "source": [
    "impute_data = pd.read_csv(r\"..\\..\\data\\raw\\anime-dataset-2023.csv\")\n",
    "impute_data.columns = impute_data.columns.str.lower().str.replace(' ', '_')\n",
    "impute_data.info()"
   ]
  },
  {
   "cell_type": "code",
   "execution_count": 5,
   "metadata": {},
   "outputs": [
    {
     "data": {
      "text/plain": [
       "{'episodes', 'genres', 'rating', 'source', 'status', 'synopsis'}"
      ]
     },
     "execution_count": 5,
     "metadata": {},
     "output_type": "execute_result"
    }
   ],
   "source": [
    "scraped_columns = set(scraped_data.columns)\n",
    "impute_columns = set(impute_data.columns)\n",
    "scraped_columns.intersection(impute_columns)"
   ]
  },
  {
   "cell_type": "code",
   "execution_count": 6,
   "metadata": {},
   "outputs": [
    {
     "data": {
      "text/plain": [
       "title           26757\n",
       "episodes          251\n",
       "release_year      106\n",
       "status              2\n",
       "genres            966\n",
       "studio           1026\n",
       "source             16\n",
       "demographic         5\n",
       "themes              0\n",
       "synopsis        21732\n",
       "voters            971\n",
       "rating             92\n",
       "dtype: int64"
      ]
     },
     "execution_count": 6,
     "metadata": {},
     "output_type": "execute_result"
    }
   ],
   "source": [
    "scraped_data.nunique()"
   ]
  },
  {
   "cell_type": "code",
   "execution_count": 7,
   "metadata": {},
   "outputs": [
    {
     "data": {
      "text/plain": [
       "anime_id        24905\n",
       "name            24901\n",
       "english_name    10134\n",
       "other_name      23796\n",
       "score             567\n",
       "genres           1006\n",
       "synopsis        20113\n",
       "type                7\n",
       "episodes          252\n",
       "aired           15213\n",
       "premiered         244\n",
       "status              3\n",
       "producers        4423\n",
       "licensors         265\n",
       "studios          1547\n",
       "source             17\n",
       "duration          331\n",
       "rating              7\n",
       "rank            15198\n",
       "popularity      18363\n",
       "favorites        1814\n",
       "scored_by        8281\n",
       "members         10996\n",
       "image_url       24720\n",
       "dtype: int64"
      ]
     },
     "execution_count": 7,
     "metadata": {},
     "output_type": "execute_result"
    }
   ],
   "source": [
    "impute_data.nunique()"
   ]
  },
  {
   "cell_type": "code",
   "execution_count": 8,
   "metadata": {},
   "outputs": [
    {
     "data": {
      "text/plain": [
       "synopsis\n",
       "(No synopsis yet.)                                                                               4772\n",
       "No synopsis has been added for this series yet.\\r\\n\\r\\nClick here to update this information.      25\n",
       "Name: count, dtype: int64"
      ]
     },
     "execution_count": 8,
     "metadata": {},
     "output_type": "execute_result"
    }
   ],
   "source": [
    "scraped_data['synopsis'].value_counts()[:2]"
   ]
  },
  {
   "cell_type": "code",
   "execution_count": 9,
   "metadata": {},
   "outputs": [],
   "source": [
    "scraped_data = scraped_data.replace(\n",
    "    '(No synopsis yet.)', np.nan).replace(\n",
    "        'No synopsis has been added for this series yet.\\r\\n\\r\\nClick here to update this information.', np.nan)"
   ]
  },
  {
   "cell_type": "code",
   "execution_count": 96,
   "metadata": {},
   "outputs": [],
   "source": [
    "def merge_anime_datasets(\n",
    "    df1: pd.DataFrame, \n",
    "    df2: pd.DataFrame, \n",
    "    df1_title_column: str,\n",
    "    df2_title_column,\n",
    "    avg_episode_duration=23) -> pd.DataFrame:\n",
    "    \"\"\"\n",
    "    Merges two anime datasets based on anime titles and applies custom rules\n",
    "    for handling common columns.\n",
    "    \n",
    "    :param df1: First dataset (with 'title' as the anime name).\n",
    "    :param df2: Second dataset (with 'name' as the anime name).\n",
    "        \n",
    "    :returns: Merged dataset with common columns handled according to custom logic.\n",
    "    :rtype: pd.DataFrame\n",
    "    \"\"\"\n",
    "    df1[df1_title_column] = df1[df1_title_column].str.strip().str.lower()\n",
    "    df2[df2_title_column] = df2[df2_title_column].str.strip().str.lower()\n",
    "    \n",
    "    merged_df = pd.merge(df1, df2, left_on=df1_title_column, right_on=df2_title_column, how='outer')\n",
    "\n",
    "    merged_df['episodes'] = pd.to_numeric(merged_df['episodes_x'], errors='coerce').combine(\n",
    "        pd.to_numeric(merged_df['episodes_y'], errors='coerce'), max, fill_value=np.nan)\n",
    "    \n",
    "    # Handle 'genres': concatenate only if they are exclusive\n",
    "    def combine_genres(genre1, genre2):\n",
    "        if pd.isna(genre1):\n",
    "            return genre2\n",
    "        if pd.isna(genre2):\n",
    "            return genre1\n",
    "        genre1_set = set(genre1.split())\n",
    "        genre2_set = set(genre2.split())\n",
    "        if genre1_set == genre2_set:  # If the sets are the same, no need to concatenate\n",
    "            return genre1\n",
    "        else:\n",
    "            combined_genres = \" \".join(sorted(genre1_set.union(genre2_set)))\n",
    "            return combined_genres\n",
    "    \n",
    "    merged_df['genres'] = merged_df.apply(lambda row: combine_genres(row['genres_x'], row['genres_y']), axis=1)\n",
    "    \n",
    "    merged_df['rating'] = pd.to_numeric(merged_df['rating_x'], errors='coerce').combine(\n",
    "        pd.to_numeric(merged_df['rating_y'], errors='coerce'), max, fill_value=np.nan)\n",
    "    \n",
    "    merged_df['popularity'] = pd.to_numeric(merged_df['popularity'], errors='coerce').combine(\n",
    "        pd.to_numeric(merged_df['rank'], errors='coerce'), max, fill_value=np.nan)\n",
    "    \n",
    "    merged_df['source'] = merged_df['source_y']\n",
    "    \n",
    "    merged_df['status'] = merged_df['status_x'].combine_first(merged_df['status_y'])\n",
    "    \n",
    "    merged_df['synopsis'] = merged_df['synopsis_x'].fillna('') + ' ' + merged_df['synopsis_y'].fillna('')\n",
    "    merged_df['synopsis'] = merged_df['synopsis'].str.strip()\n",
    "    \n",
    "     # Calculate total duration based on episode count * average episode duration (in minutes)\n",
    "    merged_df['total_duration_minutes'] = merged_df['episodes'] * avg_episode_duration\n",
    "    \n",
    "    # Convert total duration from minutes to hours\n",
    "    merged_df['total_duration_hours'] = merged_df['total_duration_minutes'] / 60\n",
    "    \n",
    "    # Create duration-based categories\n",
    "    def classify_total_duration(duration_hours):\n",
    "        if pd.isna(duration_hours):\n",
    "            return 'Unknown'\n",
    "        elif duration_hours <= 2:\n",
    "            return 'Very Short (Movie/Special)'\n",
    "        elif duration_hours <= 6:\n",
    "            return 'Short (2-6 hours)'\n",
    "        elif duration_hours <= 12:\n",
    "            return 'Medium (6-12 hours)'\n",
    "        elif duration_hours <= 30:\n",
    "            return 'Long (12-30 hours)'\n",
    "        elif duration_hours <= 100:\n",
    "            return 'Very Long (30-100 hours)'\n",
    "        else:\n",
    "            return 'Epic (>100 hours)'\n",
    "    \n",
    "    # Apply the function to classify based on total duration\n",
    "    merged_df['duration_category'] = merged_df['total_duration_hours'].apply(classify_total_duration)\n",
    "    \n",
    "    merged_df = merged_df.drop(columns=['episodes_x', 'episodes_y', 'genres_x', 'genres_y',\n",
    "                                        'rating_x', 'rating_y', 'source_x', 'status_x', \n",
    "                                        'status_y', 'synopsis_x', 'synopsis_y', 'name'])\n",
    "    return merged_df"
   ]
  },
  {
   "cell_type": "code",
   "execution_count": 97,
   "metadata": {},
   "outputs": [],
   "source": [
    "df = merge_anime_datasets(scraped_data, impute_data, 'title', 'name')"
   ]
  },
  {
   "cell_type": "code",
   "execution_count": 98,
   "metadata": {},
   "outputs": [
    {
     "data": {
      "text/plain": [
       "(27601, 33)"
      ]
     },
     "execution_count": 98,
     "metadata": {},
     "output_type": "execute_result"
    }
   ],
   "source": [
    "df.shape"
   ]
  },
  {
   "cell_type": "code",
   "execution_count": 99,
   "metadata": {},
   "outputs": [
    {
     "name": "stdout",
     "output_type": "stream",
     "text": [
      "<class 'pandas.core.frame.DataFrame'>\n",
      "RangeIndex: 27601 entries, 0 to 27600\n",
      "Data columns (total 33 columns):\n",
      " #   Column                  Non-Null Count  Dtype  \n",
      "---  ------                  --------------  -----  \n",
      " 0   title                   26799 non-null  object \n",
      " 1   release_year            26799 non-null  float64\n",
      " 2   studio                  25668 non-null  object \n",
      " 3   demographic             10143 non-null  object \n",
      " 4   themes                  0 non-null      float64\n",
      " 5   voters                  13079 non-null  float64\n",
      " 6   anime_id                24932 non-null  float64\n",
      " 7   english_name            24932 non-null  object \n",
      " 8   other_name              24932 non-null  object \n",
      " 9   score                   24932 non-null  object \n",
      " 10  type                    24932 non-null  object \n",
      " 11  aired                   24932 non-null  object \n",
      " 12  premiered               24932 non-null  object \n",
      " 13  producers               24932 non-null  object \n",
      " 14  licensors               24932 non-null  object \n",
      " 15  studios                 24932 non-null  object \n",
      " 16  source_y                24932 non-null  object \n",
      " 17  duration                24932 non-null  object \n",
      " 18  rank                    24932 non-null  object \n",
      " 19  popularity              24932 non-null  float64\n",
      " 20  favorites               24932 non-null  float64\n",
      " 21  scored_by               24932 non-null  object \n",
      " 22  members                 24932 non-null  float64\n",
      " 23  image_url               24932 non-null  object \n",
      " 24  episodes                13554 non-null  float64\n",
      " 25  genres                  26817 non-null  object \n",
      " 26  rating                  646 non-null    float64\n",
      " 27  source                  24932 non-null  object \n",
      " 28  status                  27320 non-null  object \n",
      " 29  synopsis                27601 non-null  object \n",
      " 30  total_duration_minutes  13554 non-null  float64\n",
      " 31  total_duration_hours    13554 non-null  float64\n",
      " 32  duration_category       27601 non-null  object \n",
      "dtypes: float64(11), object(22)\n",
      "memory usage: 6.9+ MB\n"
     ]
    }
   ],
   "source": [
    "df.info()"
   ]
  },
  {
   "cell_type": "code",
   "execution_count": 100,
   "metadata": {},
   "outputs": [
    {
     "data": {
      "text/plain": [
       "duration_category         \n",
       "Unknown                       14047\n",
       "Short (2-6 hours)              4762\n",
       "Very Short (Movie/Special)     3136\n",
       "Medium (6-12 hours)            2725\n",
       "Long (12-30 hours)             2264\n",
       "Very Long (30-100 hours)        566\n",
       "Epic (>100 hours)               101\n",
       "Name: count, dtype: int64"
      ]
     },
     "execution_count": 100,
     "metadata": {},
     "output_type": "execute_result"
    }
   ],
   "source": [
    "df[['duration_category']].value_counts()"
   ]
  },
  {
   "cell_type": "code",
   "execution_count": 101,
   "metadata": {},
   "outputs": [
    {
     "data": {
      "text/plain": [
       "title                       802\n",
       "release_year                802\n",
       "studio                     1933\n",
       "demographic               17458\n",
       "themes                    27601\n",
       "voters                    14522\n",
       "anime_id                   2669\n",
       "english_name               2669\n",
       "other_name                 2669\n",
       "score                      2669\n",
       "type                       2669\n",
       "aired                      2669\n",
       "premiered                  2669\n",
       "producers                  2669\n",
       "licensors                  2669\n",
       "studios                    2669\n",
       "source_y                   2669\n",
       "duration                   2669\n",
       "rank                       2669\n",
       "popularity                 2669\n",
       "favorites                  2669\n",
       "scored_by                  2669\n",
       "members                    2669\n",
       "image_url                  2669\n",
       "episodes                  14047\n",
       "genres                      784\n",
       "rating                    26955\n",
       "source                     2669\n",
       "status                      281\n",
       "synopsis                      0\n",
       "total_duration_minutes    14047\n",
       "total_duration_hours      14047\n",
       "duration_category             0\n",
       "dtype: int64"
      ]
     },
     "execution_count": 101,
     "metadata": {},
     "output_type": "execute_result"
    }
   ],
   "source": [
    "df.isnull().sum()"
   ]
  },
  {
   "cell_type": "code",
   "execution_count": 102,
   "metadata": {},
   "outputs": [],
   "source": [
    "df = df.drop(columns=['rating', 'source_y', 'rank', 'premiered'])"
   ]
  },
  {
   "cell_type": "code",
   "execution_count": 103,
   "metadata": {},
   "outputs": [
    {
     "data": {
      "text/plain": [
       "array(['Unknown', 'Very Short (Movie/Special)', 'Short (2-6 hours)',\n",
       "       'Medium (6-12 hours)', 'Long (12-30 hours)',\n",
       "       'Very Long (30-100 hours)', 'Epic (>100 hours)'], dtype=object)"
      ]
     },
     "execution_count": 103,
     "metadata": {},
     "output_type": "execute_result"
    }
   ],
   "source": [
    "df['duration_category'].unique()"
   ]
  },
  {
   "cell_type": "code",
   "execution_count": 104,
   "metadata": {},
   "outputs": [
    {
     "name": "stdout",
     "output_type": "stream",
     "text": [
      "<class 'pandas.core.frame.DataFrame'>\n",
      "RangeIndex: 27601 entries, 0 to 27600\n",
      "Data columns (total 29 columns):\n",
      " #   Column                  Non-Null Count  Dtype  \n",
      "---  ------                  --------------  -----  \n",
      " 0   title                   26799 non-null  object \n",
      " 1   release_year            26799 non-null  float64\n",
      " 2   studio                  25668 non-null  object \n",
      " 3   demographic             10143 non-null  object \n",
      " 4   themes                  0 non-null      float64\n",
      " 5   voters                  13079 non-null  float64\n",
      " 6   anime_id                24932 non-null  float64\n",
      " 7   english_name            24932 non-null  object \n",
      " 8   other_name              24932 non-null  object \n",
      " 9   score                   24932 non-null  object \n",
      " 10  type                    24932 non-null  object \n",
      " 11  aired                   24932 non-null  object \n",
      " 12  producers               24932 non-null  object \n",
      " 13  licensors               24932 non-null  object \n",
      " 14  studios                 24932 non-null  object \n",
      " 15  duration                24932 non-null  object \n",
      " 16  popularity              24932 non-null  float64\n",
      " 17  favorites               24932 non-null  float64\n",
      " 18  scored_by               24932 non-null  object \n",
      " 19  members                 24932 non-null  float64\n",
      " 20  image_url               24932 non-null  object \n",
      " 21  episodes                13554 non-null  float64\n",
      " 22  genres                  26817 non-null  object \n",
      " 23  source                  24932 non-null  object \n",
      " 24  status                  27320 non-null  object \n",
      " 25  synopsis                27601 non-null  object \n",
      " 26  total_duration_minutes  13554 non-null  float64\n",
      " 27  total_duration_hours    13554 non-null  float64\n",
      " 28  duration_category       27601 non-null  object \n",
      "dtypes: float64(10), object(19)\n",
      "memory usage: 6.1+ MB\n"
     ]
    }
   ],
   "source": [
    "df.info()"
   ]
  },
  {
   "cell_type": "code",
   "execution_count": 105,
   "metadata": {},
   "outputs": [
    {
     "data": {
      "text/plain": [
       "title                       802\n",
       "release_year                802\n",
       "studio                     1933\n",
       "demographic               17458\n",
       "themes                    27601\n",
       "voters                    14522\n",
       "anime_id                   2669\n",
       "english_name               2669\n",
       "other_name                 2669\n",
       "score                      2669\n",
       "type                       2669\n",
       "aired                      2669\n",
       "producers                  2669\n",
       "licensors                  2669\n",
       "studios                    2669\n",
       "duration                   2669\n",
       "popularity                 2669\n",
       "favorites                  2669\n",
       "scored_by                  2669\n",
       "members                    2669\n",
       "image_url                  2669\n",
       "episodes                  14047\n",
       "genres                      784\n",
       "source                     2669\n",
       "status                      281\n",
       "synopsis                      0\n",
       "total_duration_minutes    14047\n",
       "total_duration_hours      14047\n",
       "duration_category             0\n",
       "dtype: int64"
      ]
     },
     "execution_count": 105,
     "metadata": {},
     "output_type": "execute_result"
    }
   ],
   "source": [
    "df.isnull().sum()"
   ]
  },
  {
   "cell_type": "code",
   "execution_count": 106,
   "metadata": {},
   "outputs": [],
   "source": [
    "def preprocess_text(text: str) -> str:\n",
    "    \"\"\"\n",
    "    Tokenize, remove stopwords, and apply stemming to the text.\n",
    "\n",
    "    :param text: Input text to preprocess.\n",
    "    :return: Preprocessed text as a single string.\n",
    "    :rtype: str\n",
    "    \"\"\"\n",
    "    tokens = word_tokenize(text.lower())\n",
    "    processed = [stemmer.stem(word) for word in tokens if word.isalpha() and word not in stop_words]\n",
    "    return ' '.join(processed)"
   ]
  },
  {
   "cell_type": "code",
   "execution_count": 108,
   "metadata": {},
   "outputs": [],
   "source": [
    "df['synopsis'] = df['synopsis'].apply(preprocess_text)"
   ]
  },
  {
   "cell_type": "code",
   "execution_count": 117,
   "metadata": {},
   "outputs": [
    {
     "data": {
      "text/plain": [
       "23397          Action, Fantasy\n",
       "3791     Comedy, Slice of Life\n",
       "11489                  UNKNOWN\n",
       "828                     Hentai\n",
       "20748                  UNKNOWN\n",
       "Name: genres, dtype: object"
      ]
     },
     "execution_count": 117,
     "metadata": {},
     "output_type": "execute_result"
    }
   ],
   "source": [
    "df['genres'].sample(5)"
   ]
  },
  {
   "cell_type": "code",
   "execution_count": 120,
   "metadata": {},
   "outputs": [
    {
     "data": {
      "text/html": [
       "<div>\n",
       "<style scoped>\n",
       "    .dataframe tbody tr th:only-of-type {\n",
       "        vertical-align: middle;\n",
       "    }\n",
       "\n",
       "    .dataframe tbody tr th {\n",
       "        vertical-align: top;\n",
       "    }\n",
       "\n",
       "    .dataframe thead th {\n",
       "        text-align: right;\n",
       "    }\n",
       "</style>\n",
       "<table border=\"1\" class=\"dataframe\">\n",
       "  <thead>\n",
       "    <tr style=\"text-align: right;\">\n",
       "      <th></th>\n",
       "      <th>score</th>\n",
       "      <th>popularity</th>\n",
       "    </tr>\n",
       "  </thead>\n",
       "  <tbody>\n",
       "    <tr>\n",
       "      <th>0</th>\n",
       "      <td>6.01</td>\n",
       "      <td>14667.0</td>\n",
       "    </tr>\n",
       "    <tr>\n",
       "      <th>1</th>\n",
       "      <td>4.65</td>\n",
       "      <td>8712.0</td>\n",
       "    </tr>\n",
       "    <tr>\n",
       "      <th>2</th>\n",
       "      <td>UNKNOWN</td>\n",
       "      <td>14939.0</td>\n",
       "    </tr>\n",
       "    <tr>\n",
       "      <th>3</th>\n",
       "      <td>UNKNOWN</td>\n",
       "      <td>22924.0</td>\n",
       "    </tr>\n",
       "    <tr>\n",
       "      <th>4</th>\n",
       "      <td>6.86</td>\n",
       "      <td>4675.0</td>\n",
       "    </tr>\n",
       "    <tr>\n",
       "      <th>...</th>\n",
       "      <td>...</td>\n",
       "      <td>...</td>\n",
       "    </tr>\n",
       "    <tr>\n",
       "      <th>27596</th>\n",
       "      <td>NaN</td>\n",
       "      <td>NaN</td>\n",
       "    </tr>\n",
       "    <tr>\n",
       "      <th>27597</th>\n",
       "      <td>NaN</td>\n",
       "      <td>NaN</td>\n",
       "    </tr>\n",
       "    <tr>\n",
       "      <th>27598</th>\n",
       "      <td>3.75</td>\n",
       "      <td>12635.0</td>\n",
       "    </tr>\n",
       "    <tr>\n",
       "      <th>27599</th>\n",
       "      <td>UNKNOWN</td>\n",
       "      <td>0.0</td>\n",
       "    </tr>\n",
       "    <tr>\n",
       "      <th>27600</th>\n",
       "      <td>UNKNOWN</td>\n",
       "      <td>0.0</td>\n",
       "    </tr>\n",
       "  </tbody>\n",
       "</table>\n",
       "<p>27601 rows × 2 columns</p>\n",
       "</div>"
      ],
      "text/plain": [
       "         score  popularity\n",
       "0         6.01     14667.0\n",
       "1         4.65      8712.0\n",
       "2      UNKNOWN     14939.0\n",
       "3      UNKNOWN     22924.0\n",
       "4         6.86      4675.0\n",
       "...        ...         ...\n",
       "27596      NaN         NaN\n",
       "27597      NaN         NaN\n",
       "27598     3.75     12635.0\n",
       "27599  UNKNOWN         0.0\n",
       "27600  UNKNOWN         0.0\n",
       "\n",
       "[27601 rows x 2 columns]"
      ]
     },
     "execution_count": 120,
     "metadata": {},
     "output_type": "execute_result"
    }
   ],
   "source": [
    "df[['score','popularity']]"
   ]
  },
  {
   "cell_type": "code",
   "execution_count": 121,
   "metadata": {},
   "outputs": [],
   "source": [
    "def calculate_hype(df: pd.DataFrame):\n",
    "    df['score'] = pd.to_numeric(df['score'], errors='coerce').fillna(1) \n",
    "    df['popularity'] = pd.to_numeric(df['popularity'], errors='coerce').fillna(1)\n",
    "    \n",
    "    df['hype'] = df['score'] * df['popularity']\n",
    "    \n",
    "    return df"
   ]
  },
  {
   "cell_type": "code",
   "execution_count": 122,
   "metadata": {},
   "outputs": [],
   "source": [
    "df = calculate_hype(df)"
   ]
  },
  {
   "cell_type": "code",
   "execution_count": 123,
   "metadata": {},
   "outputs": [
    {
     "data": {
      "text/html": [
       "<div>\n",
       "<style scoped>\n",
       "    .dataframe tbody tr th:only-of-type {\n",
       "        vertical-align: middle;\n",
       "    }\n",
       "\n",
       "    .dataframe tbody tr th {\n",
       "        vertical-align: top;\n",
       "    }\n",
       "\n",
       "    .dataframe thead th {\n",
       "        text-align: right;\n",
       "    }\n",
       "</style>\n",
       "<table border=\"1\" class=\"dataframe\">\n",
       "  <thead>\n",
       "    <tr style=\"text-align: right;\">\n",
       "      <th></th>\n",
       "      <th>score</th>\n",
       "      <th>popularity</th>\n",
       "      <th>hype</th>\n",
       "    </tr>\n",
       "  </thead>\n",
       "  <tbody>\n",
       "    <tr>\n",
       "      <th>0</th>\n",
       "      <td>6.01</td>\n",
       "      <td>14667.0</td>\n",
       "      <td>88148.67</td>\n",
       "    </tr>\n",
       "    <tr>\n",
       "      <th>1</th>\n",
       "      <td>4.65</td>\n",
       "      <td>8712.0</td>\n",
       "      <td>40510.80</td>\n",
       "    </tr>\n",
       "    <tr>\n",
       "      <th>2</th>\n",
       "      <td>1.00</td>\n",
       "      <td>14939.0</td>\n",
       "      <td>14939.00</td>\n",
       "    </tr>\n",
       "    <tr>\n",
       "      <th>3</th>\n",
       "      <td>1.00</td>\n",
       "      <td>22924.0</td>\n",
       "      <td>22924.00</td>\n",
       "    </tr>\n",
       "    <tr>\n",
       "      <th>4</th>\n",
       "      <td>6.86</td>\n",
       "      <td>4675.0</td>\n",
       "      <td>32070.50</td>\n",
       "    </tr>\n",
       "    <tr>\n",
       "      <th>...</th>\n",
       "      <td>...</td>\n",
       "      <td>...</td>\n",
       "      <td>...</td>\n",
       "    </tr>\n",
       "    <tr>\n",
       "      <th>27596</th>\n",
       "      <td>1.00</td>\n",
       "      <td>1.0</td>\n",
       "      <td>1.00</td>\n",
       "    </tr>\n",
       "    <tr>\n",
       "      <th>27597</th>\n",
       "      <td>1.00</td>\n",
       "      <td>1.0</td>\n",
       "      <td>1.00</td>\n",
       "    </tr>\n",
       "    <tr>\n",
       "      <th>27598</th>\n",
       "      <td>3.75</td>\n",
       "      <td>12635.0</td>\n",
       "      <td>47381.25</td>\n",
       "    </tr>\n",
       "    <tr>\n",
       "      <th>27599</th>\n",
       "      <td>1.00</td>\n",
       "      <td>0.0</td>\n",
       "      <td>0.00</td>\n",
       "    </tr>\n",
       "    <tr>\n",
       "      <th>27600</th>\n",
       "      <td>1.00</td>\n",
       "      <td>0.0</td>\n",
       "      <td>0.00</td>\n",
       "    </tr>\n",
       "  </tbody>\n",
       "</table>\n",
       "<p>27601 rows × 3 columns</p>\n",
       "</div>"
      ],
      "text/plain": [
       "       score  popularity      hype\n",
       "0       6.01     14667.0  88148.67\n",
       "1       4.65      8712.0  40510.80\n",
       "2       1.00     14939.0  14939.00\n",
       "3       1.00     22924.0  22924.00\n",
       "4       6.86      4675.0  32070.50\n",
       "...      ...         ...       ...\n",
       "27596   1.00         1.0      1.00\n",
       "27597   1.00         1.0      1.00\n",
       "27598   3.75     12635.0  47381.25\n",
       "27599   1.00         0.0      0.00\n",
       "27600   1.00         0.0      0.00\n",
       "\n",
       "[27601 rows x 3 columns]"
      ]
     },
     "execution_count": 123,
     "metadata": {},
     "output_type": "execute_result"
    }
   ],
   "source": [
    "df[['score','popularity','hype']]"
   ]
  },
  {
   "cell_type": "code",
   "execution_count": 124,
   "metadata": {},
   "outputs": [],
   "source": [
    "df.to_csv(r'..\\..\\data\\final\\AnimeData_25092024.csv', index=False)"
   ]
  }
 ],
 "metadata": {
  "kernelspec": {
   "display_name": "venv",
   "language": "python",
   "name": "python3"
  },
  "language_info": {
   "codemirror_mode": {
    "name": "ipython",
    "version": 3
   },
   "file_extension": ".py",
   "mimetype": "text/x-python",
   "name": "python",
   "nbconvert_exporter": "python",
   "pygments_lexer": "ipython3",
   "version": "3.11.3"
  }
 },
 "nbformat": 4,
 "nbformat_minor": 2
}
