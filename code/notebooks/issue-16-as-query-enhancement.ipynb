{
 "cells": [
  {
   "cell_type": "code",
   "execution_count": 3,
   "metadata": {},
   "outputs": [],
   "source": [
    "import pandas as pd\n",
    "import numpy as np\n",
    "from sklearn.feature_extraction.text import TfidfVectorizer\n",
    "from sklearn.neighbors import NearestNeighbors"
   ]
  },
  {
   "cell_type": "code",
   "execution_count": 23,
   "metadata": {},
   "outputs": [
    {
     "name": "stdout",
     "output_type": "stream",
     "text": [
      "<class 'pandas.core.frame.DataFrame'>\n",
      "RangeIndex: 26794 entries, 0 to 26793\n",
      "Data columns (total 12 columns):\n",
      " #   Column        Non-Null Count  Dtype  \n",
      "---  ------        --------------  -----  \n",
      " 0   title         26794 non-null  object \n",
      " 1   episodes      13552 non-null  float64\n",
      " 2   release_year  26794 non-null  int64  \n",
      " 3   status        26389 non-null  object \n",
      " 4   genres        21414 non-null  object \n",
      " 5   studio        25663 non-null  object \n",
      " 6   source        23896 non-null  object \n",
      " 7   demographic   10142 non-null  object \n",
      " 8   themes        0 non-null      float64\n",
      " 9   synopsis      26785 non-null  object \n",
      " 10  voters        13078 non-null  float64\n",
      " 11  rating        646 non-null    float64\n",
      "dtypes: float64(4), int64(1), object(7)\n",
      "memory usage: 2.5+ MB\n"
     ]
    }
   ],
   "source": [
    "scraped_data = pd.read_csv(r'..\\..\\data\\raw\\AnimeData_300724.csv')\n",
    "scraped_data.columns = scraped_data.columns.str.lower().str.replace(' ', '_')\n",
    "scraped_data.info()"
   ]
  },
  {
   "cell_type": "code",
   "execution_count": 24,
   "metadata": {},
   "outputs": [
    {
     "name": "stdout",
     "output_type": "stream",
     "text": [
      "<class 'pandas.core.frame.DataFrame'>\n",
      "RangeIndex: 24905 entries, 0 to 24904\n",
      "Data columns (total 24 columns):\n",
      " #   Column        Non-Null Count  Dtype \n",
      "---  ------        --------------  ----- \n",
      " 0   anime_id      24905 non-null  int64 \n",
      " 1   name          24905 non-null  object\n",
      " 2   english_name  24905 non-null  object\n",
      " 3   other_name    24905 non-null  object\n",
      " 4   score         24905 non-null  object\n",
      " 5   genres        24905 non-null  object\n",
      " 6   synopsis      24905 non-null  object\n",
      " 7   type          24905 non-null  object\n",
      " 8   episodes      24905 non-null  object\n",
      " 9   aired         24905 non-null  object\n",
      " 10  premiered     24905 non-null  object\n",
      " 11  status        24905 non-null  object\n",
      " 12  producers     24905 non-null  object\n",
      " 13  licensors     24905 non-null  object\n",
      " 14  studios       24905 non-null  object\n",
      " 15  source        24905 non-null  object\n",
      " 16  duration      24905 non-null  object\n",
      " 17  rating        24905 non-null  object\n",
      " 18  rank          24905 non-null  object\n",
      " 19  popularity    24905 non-null  int64 \n",
      " 20  favorites     24905 non-null  int64 \n",
      " 21  scored_by     24905 non-null  object\n",
      " 22  members       24905 non-null  int64 \n",
      " 23  image_url     24905 non-null  object\n",
      "dtypes: int64(4), object(20)\n",
      "memory usage: 4.6+ MB\n"
     ]
    }
   ],
   "source": [
    "impute_data = pd.read_csv(r\"..\\..\\data\\raw\\anime-dataset-2023.csv\")\n",
    "impute_data.columns = impute_data.columns.str.lower().str.replace(' ', '_')\n",
    "impute_data.info()"
   ]
  },
  {
   "cell_type": "code",
   "execution_count": 25,
   "metadata": {},
   "outputs": [
    {
     "data": {
      "text/plain": [
       "{'episodes', 'genres', 'rating', 'source', 'status', 'synopsis'}"
      ]
     },
     "execution_count": 25,
     "metadata": {},
     "output_type": "execute_result"
    }
   ],
   "source": [
    "scraped_columns = set(scraped_data.columns)\n",
    "impute_columns = set(impute_data.columns)\n",
    "scraped_columns.intersection(impute_columns)"
   ]
  },
  {
   "cell_type": "code",
   "execution_count": 27,
   "metadata": {},
   "outputs": [
    {
     "data": {
      "text/plain": [
       "title           26757\n",
       "episodes          251\n",
       "release_year      106\n",
       "status              2\n",
       "genres            966\n",
       "studio           1026\n",
       "source             16\n",
       "demographic         5\n",
       "themes              0\n",
       "synopsis        21732\n",
       "voters            971\n",
       "rating             92\n",
       "dtype: int64"
      ]
     },
     "execution_count": 27,
     "metadata": {},
     "output_type": "execute_result"
    }
   ],
   "source": [
    "scraped_data.nunique()"
   ]
  },
  {
   "cell_type": "code",
   "execution_count": 28,
   "metadata": {},
   "outputs": [
    {
     "data": {
      "text/plain": [
       "anime_id        24905\n",
       "name            24901\n",
       "english_name    10134\n",
       "other_name      23796\n",
       "score             567\n",
       "genres           1006\n",
       "synopsis        20113\n",
       "type                7\n",
       "episodes          252\n",
       "aired           15213\n",
       "premiered         244\n",
       "status              3\n",
       "producers        4423\n",
       "licensors         265\n",
       "studios          1547\n",
       "source             17\n",
       "duration          331\n",
       "rating              7\n",
       "rank            15198\n",
       "popularity      18363\n",
       "favorites        1814\n",
       "scored_by        8281\n",
       "members         10996\n",
       "image_url       24720\n",
       "dtype: int64"
      ]
     },
     "execution_count": 28,
     "metadata": {},
     "output_type": "execute_result"
    }
   ],
   "source": [
    "impute_data.nunique()"
   ]
  },
  {
   "cell_type": "code",
   "execution_count": 33,
   "metadata": {},
   "outputs": [
    {
     "data": {
      "text/plain": [
       "synopsis\n",
       "(No synopsis yet.)                                                                               4772\n",
       "No synopsis has been added for this series yet.\\r\\n\\r\\nClick here to update this information.      25\n",
       "Name: count, dtype: int64"
      ]
     },
     "execution_count": 33,
     "metadata": {},
     "output_type": "execute_result"
    }
   ],
   "source": [
    "scraped_data['synopsis'].value_counts()[:2]"
   ]
  },
  {
   "cell_type": "code",
   "execution_count": 35,
   "metadata": {},
   "outputs": [],
   "source": [
    "scraped_data = scraped_data.replace(\n",
    "    '(No synopsis yet.)', np.nan).replace(\n",
    "        'No synopsis has been added for this series yet.\\r\\n\\r\\nClick here to update this information.', np.nan)"
   ]
  },
  {
   "cell_type": "markdown",
   "metadata": {},
   "source": [
    "# Logic: Merge Scraped and Impute\n",
    "\n",
    "List of common columns: {'episodes', 'genres', 'rating', 'source', 'status', 'synopsis'}\n",
    "\n",
    "- Episode: pick the larger one.\n",
    "- Genre: concatenate both of them\n",
    "- Rating: pick the larger one\n",
    "- Source: Pick from Impute\n",
    "- Status: If available pick from Merge or else impute from Impute\n",
    "- Synopsis: Concatenate both"
   ]
  },
  {
   "cell_type": "markdown",
   "metadata": {},
   "source": []
  }
 ],
 "metadata": {
  "kernelspec": {
   "display_name": "venv",
   "language": "python",
   "name": "python3"
  },
  "language_info": {
   "codemirror_mode": {
    "name": "ipython",
    "version": 3
   },
   "file_extension": ".py",
   "mimetype": "text/x-python",
   "name": "python",
   "nbconvert_exporter": "python",
   "pygments_lexer": "ipython3",
   "version": "3.11.3"
  }
 },
 "nbformat": 4,
 "nbformat_minor": 2
}
